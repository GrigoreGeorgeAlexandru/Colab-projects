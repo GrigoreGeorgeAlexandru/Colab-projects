{
  "cells": [
    {
      "cell_type": "markdown",
      "metadata": {
        "id": "view-in-github",
        "colab_type": "text"
      },
      "source": [
        "<a href=\"https://colab.research.google.com/github/GrigoreGeorgeAlexandru/Colab-projects/blob/main/Laborator7_B_Clustering_Example1_stud.ipynb\" target=\"_parent\"><img src=\"https://colab.research.google.com/assets/colab-badge.svg\" alt=\"Open In Colab\"/></a>"
      ]
    },
    {
      "cell_type": "markdown",
      "metadata": {
        "id": "m9hUTOtOqZwL"
      },
      "source": [
        "# Clustering - Exemplu\n",
        "\n",
        "<h2 id=\"k-means\">K-means</h2>\n",
        "\n",
        "<p><a href=\"http://en.wikipedia.org/wiki/K-means_clustering\">k-means</a> este unul dintre cei mai utilizați algoritmi de clustering ce grupează datele într-un număr predefinit de clustere. Implementarea MLlib include o variantă paralelizată a metodei <a href=\"http://en.wikipedia.org/wiki/K-means%2B%2B\">k-means++</a>, denumită\n",
        "<a href=\"http://theory.stanford.edu/~sergei/papers/vldb12-kmpar.pdf\">kmeans||</a>.</p>\n",
        "\n",
        "<p><code>KMeans</code> este implementat ca <code>Estimator</code> și generează un <code>KMeansModel</code>, ca model de bază.</p>\n",
        "\n",
        "<h3 id=\"input-columns\">Coloane de intrare</h3>\n",
        "\n",
        "<table class=\"table\">\n",
        "  <thead>\n",
        "    <tr>\n",
        "      <th align=\"left\">Param name</th>\n",
        "      <th align=\"left\">Type(s)</th>\n",
        "      <th align=\"left\">Default</th>\n",
        "      <th align=\"left\">Description</th>\n",
        "    </tr>\n",
        "  </thead>\n",
        "  <tbody>\n",
        "    <tr>\n",
        "      <td>featuresCol</td>\n",
        "      <td>Vector</td>\n",
        "      <td>\"features\"</td>\n",
        "      <td>Feature vector</td>\n",
        "    </tr>\n",
        "  </tbody>\n",
        "</table>\n",
        "\n",
        "<h3 id=\"output-columns\">Coloane de ieșire</h3>\n",
        "\n",
        "<table class=\"table\">\n",
        "  <thead>\n",
        "    <tr>\n",
        "      <th align=\"left\">Param name</th>\n",
        "      <th align=\"left\">Type(s)</th>\n",
        "      <th align=\"left\">Default</th>\n",
        "      <th align=\"left\">Description</th>\n",
        "    </tr>\n",
        "  </thead>\n",
        "  <tbody>\n",
        "    <tr>\n",
        "      <td>predictionCol</td>\n",
        "      <td>Int</td>\n",
        "      <td>\"prediction\"</td>\n",
        "      <td>Predicted cluster center</td>\n",
        "    </tr>\n",
        "  </tbody>\n",
        "</table>"
      ]
    },
    {
      "cell_type": "code",
      "source": [
        "!pip install pyspark"
      ],
      "metadata": {
        "colab": {
          "base_uri": "https://localhost:8080/"
        },
        "id": "IOxQDsFuqaQP",
        "outputId": "ee10ff5a-4aa9-4f34-dc3d-13ba32179de0"
      },
      "execution_count": null,
      "outputs": [
        {
          "output_type": "stream",
          "name": "stdout",
          "text": [
            "Collecting pyspark\n",
            "  Downloading pyspark-3.5.1.tar.gz (317.0 MB)\n",
            "\u001b[2K     \u001b[90m━━━━━━━━━━━━━━━━━━━━━━━━━━━━━━━━━━━━━━━━\u001b[0m \u001b[32m317.0/317.0 MB\u001b[0m \u001b[31m3.5 MB/s\u001b[0m eta \u001b[36m0:00:00\u001b[0m\n",
            "\u001b[?25h  Preparing metadata (setup.py) ... \u001b[?25l\u001b[?25hdone\n",
            "Requirement already satisfied: py4j==0.10.9.7 in /usr/local/lib/python3.10/dist-packages (from pyspark) (0.10.9.7)\n",
            "Building wheels for collected packages: pyspark\n",
            "  Building wheel for pyspark (setup.py) ... \u001b[?25l\u001b[?25hdone\n",
            "  Created wheel for pyspark: filename=pyspark-3.5.1-py2.py3-none-any.whl size=317488491 sha256=3f72f41b1f166c00b56684623e2cfa5f9681523f8f257d731f9384019176a950\n",
            "  Stored in directory: /root/.cache/pip/wheels/80/1d/60/2c256ed38dddce2fdd93be545214a63e02fbd8d74fb0b7f3a6\n",
            "Successfully built pyspark\n",
            "Installing collected packages: pyspark\n",
            "Successfully installed pyspark-3.5.1\n"
          ]
        }
      ]
    },
    {
      "cell_type": "code",
      "source": [
        "from google.colab import drive\n",
        "drive.mount('/content/drive')"
      ],
      "metadata": {
        "colab": {
          "base_uri": "https://localhost:8080/"
        },
        "id": "U_Tcrxt7qfx5",
        "outputId": "1569fa12-ed14-4195-dfb5-7be8b3364751"
      },
      "execution_count": null,
      "outputs": [
        {
          "output_type": "stream",
          "name": "stdout",
          "text": [
            "Mounted at /content/drive\n"
          ]
        }
      ]
    },
    {
      "cell_type": "code",
      "execution_count": null,
      "metadata": {
        "id": "t2mFcy0YqZwM"
      },
      "outputs": [],
      "source": [
        "#Exemplu\n",
        "from pyspark.sql import SparkSession\n",
        "spark = SparkSession.builder.appName('cluster').getOrCreate()"
      ]
    },
    {
      "cell_type": "code",
      "execution_count": null,
      "metadata": {
        "jupyter": {
          "outputs_hidden": false
        },
        "colab": {
          "base_uri": "https://localhost:8080/"
        },
        "id": "5T2uXuMOqZwN",
        "outputId": "c3a9b9ed-01bb-46f6-95fc-48537a0f489e"
      },
      "outputs": [
        {
          "output_type": "stream",
          "name": "stdout",
          "text": [
            "Silhouette with squared euclidean distance = 0.9997530305375207\n",
            "Cluster Centers: \n",
            "[9.1 9.1 9.1]\n",
            "[0.1 0.1 0.1]\n"
          ]
        }
      ],
      "source": [
        "from pyspark.ml.clustering import KMeans\n",
        "from pyspark.ml.evaluation import ClusteringEvaluator\n",
        "\n",
        "# Încărcare date.\n",
        "dataset = spark.read.format(\"libsvm\").load(\"/content/drive/MyDrive/Data/sample_kmeans_data.txt\")\n",
        "\n",
        "# Antrenarea unui model k-means.\n",
        "kmeans = KMeans().setK(2).setSeed(1)\n",
        "model = kmeans.fit(dataset)\n",
        "\n",
        "predictions = model.transform(dataset)\n",
        "\n",
        "# Evaluarea clustering-ului\n",
        "\n",
        "#depreciat din 3.0.0:\n",
        "#wssse = model.computeCost(dataset)\n",
        "#print(\"Within Set Sum of Squared Errors = \" + str(wssse))\n",
        "\n",
        "evaluator = ClusteringEvaluator()\n",
        "silhouette = evaluator.evaluate(predictions)\n",
        "print(\"Silhouette with squared euclidean distance = \" + str(silhouette))\n",
        "\n",
        "# Afișare rezultat.\n",
        "centers = model.clusterCenters()\n",
        "print(\"Cluster Centers: \")\n",
        "for center in centers:\n",
        "    print(center)"
      ]
    }
  ],
  "metadata": {
    "anaconda-cloud": {},
    "kernelspec": {
      "display_name": "Python 3",
      "language": "python",
      "name": "python3"
    },
    "language_info": {
      "codemirror_mode": {
        "name": "ipython",
        "version": 3
      },
      "file_extension": ".py",
      "mimetype": "text/x-python",
      "name": "python",
      "nbconvert_exporter": "python",
      "pygments_lexer": "ipython3",
      "version": "3.8.5"
    },
    "colab": {
      "provenance": [],
      "include_colab_link": true
    }
  },
  "nbformat": 4,
  "nbformat_minor": 0
}