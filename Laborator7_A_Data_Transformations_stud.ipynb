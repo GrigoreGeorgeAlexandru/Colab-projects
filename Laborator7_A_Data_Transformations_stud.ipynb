{
  "cells": [
    {
      "cell_type": "markdown",
      "metadata": {
        "id": "view-in-github",
        "colab_type": "text"
      },
      "source": [
        "<a href=\"https://colab.research.google.com/github/GrigoreGeorgeAlexandru/Colab-projects/blob/main/Laborator7_A_Data_Transformations_stud.ipynb\" target=\"_parent\"><img src=\"https://colab.research.google.com/assets/colab-badge.svg\" alt=\"Open In Colab\"/></a>"
      ]
    },
    {
      "cell_type": "markdown",
      "metadata": {
        "id": "uHNiiP-DlTfA"
      },
      "source": [
        "# Transformări de date\n",
        "\n",
        "Datele nu se află întotdeauna într-un format convenabil, prin urmare acestea trebuie procesate. De multe ori, trebuie procesate date non-numerice (nume de clienți, coduri poștale, nume de țări etc.)\n",
        "\n",
        "O parte importantă a lucrului cu date este cea de înțelegere a acestora. Folosind propriile cunoștințe asupra domeniului, se construiește o intuiție a modului în care datele respective trebuie abordate și procesate. Uneori, cel mai bun lucru este ștergerea anumitor date, alteori trebuie realizată o etapă de feature-engineering. În general, se încearcă transformarea datelor într-un format adecvat datelor de intrare pentru algoritmii ML.\n",
        "\n",
        "Spark oferă metode ce permit realizarea acestor transformări: http://spark.apache.org/docs/latest/ml-features.html\n"
      ]
    },
    {
      "cell_type": "code",
      "source": [
        "!pip install pyspark"
      ],
      "metadata": {
        "colab": {
          "base_uri": "https://localhost:8080/"
        },
        "id": "GbAY0U2slXJ4",
        "outputId": "fa35b0f2-f396-445f-a1e2-7a3a1873051d"
      },
      "execution_count": null,
      "outputs": [
        {
          "output_type": "stream",
          "name": "stdout",
          "text": [
            "Collecting pyspark\n",
            "  Downloading pyspark-3.5.1.tar.gz (317.0 MB)\n",
            "\u001b[2K     \u001b[90m━━━━━━━━━━━━━━━━━━━━━━━━━━━━━━━━━━━━━━━━\u001b[0m \u001b[32m317.0/317.0 MB\u001b[0m \u001b[31m1.9 MB/s\u001b[0m eta \u001b[36m0:00:00\u001b[0m\n",
            "\u001b[?25h  Preparing metadata (setup.py) ... \u001b[?25l\u001b[?25hdone\n",
            "Requirement already satisfied: py4j==0.10.9.7 in /usr/local/lib/python3.10/dist-packages (from pyspark) (0.10.9.7)\n",
            "Building wheels for collected packages: pyspark\n",
            "  Building wheel for pyspark (setup.py) ... \u001b[?25l\u001b[?25hdone\n",
            "  Created wheel for pyspark: filename=pyspark-3.5.1-py2.py3-none-any.whl size=317488491 sha256=e0916fbc5588c3a3690f58195d0132616684d0e1cc01e56498ed00ddef2809b5\n",
            "  Stored in directory: /root/.cache/pip/wheels/80/1d/60/2c256ed38dddce2fdd93be545214a63e02fbd8d74fb0b7f3a6\n",
            "Successfully built pyspark\n",
            "Installing collected packages: pyspark\n",
            "Successfully installed pyspark-3.5.1\n"
          ]
        }
      ]
    },
    {
      "cell_type": "code",
      "execution_count": null,
      "metadata": {
        "id": "pwg4gOgclTfB"
      },
      "outputs": [],
      "source": [
        "#Import SparkSession\n",
        "from pyspark.sql import SparkSession\n"
      ]
    },
    {
      "cell_type": "code",
      "execution_count": null,
      "metadata": {
        "id": "Ruwkx7OxlTfB"
      },
      "outputs": [],
      "source": [
        "#Construire sesiune Spark\n",
        "spark=SparkSession.builder.master(\"local[*]\").appName(\"Data Transformation\").getOrCreate()"
      ]
    },
    {
      "cell_type": "code",
      "source": [
        "from google.colab import drive\n",
        "drive.mount('/content/drive')"
      ],
      "metadata": {
        "colab": {
          "base_uri": "https://localhost:8080/"
        },
        "id": "Zp4VamFtmHMu",
        "outputId": "9194c387-67dd-4ea5-a611-4efe6b27f9e4"
      },
      "execution_count": null,
      "outputs": [
        {
          "output_type": "stream",
          "name": "stdout",
          "text": [
            "Drive already mounted at /content/drive; to attempt to forcibly remount, call drive.mount(\"/content/drive\", force_remount=True).\n"
          ]
        }
      ]
    },
    {
      "cell_type": "code",
      "execution_count": null,
      "metadata": {
        "id": "EA27JdGmlTfC"
      },
      "outputs": [],
      "source": [
        "#Citirea fisierului fake_customers.csv in DataFrame\n",
        "drive_path=\"/content/drive/MyDrive/Data\"\n",
        "df=spark.read.csv(path=drive_path+\"/fake_customers.csv\",header=True, inferSchema=True)"
      ]
    },
    {
      "cell_type": "code",
      "execution_count": null,
      "metadata": {
        "jupyter": {
          "outputs_hidden": false
        },
        "colab": {
          "base_uri": "https://localhost:8080/"
        },
        "id": "IBu-KVJmlTfC",
        "outputId": "f29fe673-03e7-49da-8494-b8f8d8f8c210"
      },
      "outputs": [
        {
          "output_type": "stream",
          "name": "stdout",
          "text": [
            "+-------+----------+-----+\n",
            "|   Name|     Phone|Group|\n",
            "+-------+----------+-----+\n",
            "|   John|4085552424|    A|\n",
            "|   Mike|3105552738|    B|\n",
            "| Cassie|4085552424|    B|\n",
            "|  Laura|3105552438|    B|\n",
            "|  Sarah|4085551234|    A|\n",
            "|  David|3105557463|    C|\n",
            "|   Zach|4085553987|    C|\n",
            "|  Kiera|3105552938|    A|\n",
            "|  Alexa|4085559467|    C|\n",
            "|Karissa|3105553475|    A|\n",
            "+-------+----------+-----+\n",
            "\n"
          ]
        }
      ],
      "source": [
        "#Afișare\n",
        "df.show()"
      ]
    },
    {
      "cell_type": "code",
      "source": [
        "df.count()"
      ],
      "metadata": {
        "colab": {
          "base_uri": "https://localhost:8080/"
        },
        "id": "YW8nWyUPoNdS",
        "outputId": "b8707a21-71d9-4ef2-88fc-115a4ffcba71"
      },
      "execution_count": null,
      "outputs": [
        {
          "output_type": "execute_result",
          "data": {
            "text/plain": [
              "10"
            ]
          },
          "metadata": {},
          "execution_count": 18
        }
      ]
    },
    {
      "cell_type": "markdown",
      "metadata": {
        "id": "Y2SoB9hnlTfC"
      },
      "source": [
        "## Caracteristici ale datelor\n",
        "\n",
        "### StringIndexer\n",
        "\n",
        "De multe ori va trebui să convertim informația de tip șir de caractere în informație numerică, ce corespunde caracteristicilor categoriale. Această transformare se realizează cu ușurință cu ajutorul clasei StringIndexer:"
      ]
    },
    {
      "cell_type": "code",
      "execution_count": null,
      "metadata": {
        "jupyter": {
          "outputs_hidden": false
        },
        "colab": {
          "base_uri": "https://localhost:8080/"
        },
        "id": "0Q-G4jkWlTfC",
        "outputId": "a848d9d5-0a95-4c27-b85a-e8cb6f6974ad"
      },
      "outputs": [
        {
          "output_type": "stream",
          "name": "stdout",
          "text": [
            "+-------+--------+-------------+\n",
            "|user_id|category|categoryIndex|\n",
            "+-------+--------+-------------+\n",
            "|      0|       a|          0.0|\n",
            "|      1|       b|          2.0|\n",
            "|      2|       c|          1.0|\n",
            "|      3|       a|          0.0|\n",
            "|      4|       a|          0.0|\n",
            "|      5|       c|          1.0|\n",
            "+-------+--------+-------------+\n",
            "\n"
          ]
        }
      ],
      "source": [
        "from pyspark.ml.feature import StringIndexer\n",
        "\n",
        "df1 = spark.createDataFrame(\n",
        "    [(0, \"a\"), (1, \"b\"), (2, \"c\"), (3, \"a\"), (4, \"a\"), (5, \"c\")],\n",
        "    [\"user_id\", \"category\"])\n",
        "\n",
        "indexer = StringIndexer(inputCol=\"category\", outputCol=\"categoryIndex\")\n",
        "indexed = indexer.fit(df1).transform(df1)\n",
        "indexed.show()"
      ]
    },
    {
      "cell_type": "code",
      "source": [
        "indexer_customers = StringIndexer(inputCol=\"Group\", outputCol=\"groupIndex\")\n",
        "indexed_c=indexer_customers.fit(df).transform(df)\n",
        "indexed_c.show()\n"
      ],
      "metadata": {
        "colab": {
          "base_uri": "https://localhost:8080/"
        },
        "id": "I-1Y4cy2ogKM",
        "outputId": "c1ea08d8-a1e9-485f-cf2d-7138140bb84f"
      },
      "execution_count": null,
      "outputs": [
        {
          "output_type": "stream",
          "name": "stdout",
          "text": [
            "+-------+----------+-----+----------+\n",
            "|   Name|     Phone|Group|groupIndex|\n",
            "+-------+----------+-----+----------+\n",
            "|   John|4085552424|    A|       0.0|\n",
            "|   Mike|3105552738|    B|       1.0|\n",
            "| Cassie|4085552424|    B|       1.0|\n",
            "|  Laura|3105552438|    B|       1.0|\n",
            "|  Sarah|4085551234|    A|       0.0|\n",
            "|  David|3105557463|    C|       2.0|\n",
            "|   Zach|4085553987|    C|       2.0|\n",
            "|  Kiera|3105552938|    A|       0.0|\n",
            "|  Alexa|4085559467|    C|       2.0|\n",
            "|Karissa|3105553475|    A|       0.0|\n",
            "+-------+----------+-----+----------+\n",
            "\n"
          ]
        }
      ]
    },
    {
      "cell_type": "markdown",
      "metadata": {
        "id": "5GQBGq-6lTfC"
      },
      "source": [
        "### VectorAssembler\n",
        "\n",
        "VectorAssembler este un transformator ce combină o listă dată de coloane în cadrul unui singur vector coloană. Acesta este util pentru combinarea caracteristicilor brute și a celor generate de către diferiți transformatori într-un singur vector de caracteristici, cu scopul de a antrena modele ML (regresie logistică, arbori de decizie etc.)\n",
        "\n",
        "VectorAssembler acceptă următoarele tipuri ale coloanelor de intrare: toate tipurile numerice, tipul boolean și vector. În fiecare linie, valorile coloanelor de intrare vor fi concatenate într-un vector, în ordinea specificată.\n",
        "\n",
        "Presupunem că avem un DataFrame cu coloanele \"id\", \"hour\", \"mobile\", \"userFeatures\" și \"clicked\":\n",
        "\n",
        "     id | hour | mobile | userFeatures     | clicked\n",
        "    ----|------|--------|------------------|---------\n",
        "     0  | 18   | 1.0    | [0.0, 10.0, 0.5] | 1.0\n",
        "     \n",
        "userFeatures este un vector coloană ce conține 3 caracteristici ale unui utilizator. Dorim să combinăm \"hour\", \"mobile\" și \"userFeatures\" în cadrul unui singur vector de caracteristici, denumit \"features\", pe care să îl folosim pentru a realiza o predicție asupra coloanei \"clicked\". Pentru aceasta, specificăm coloanele de intrare ale obiectului VectorAssembler ca fiind \"hour\", \"mobile\", \"userFeatures\", iar coloana de ieșire \"features\". După această transformare, obținem următorul DataFrame:\n",
        "\n",
        "     id | hour | mobile | userFeatures     | clicked | features\n",
        "    ----|------|--------|------------------|---------|-----------------------------\n",
        "     0  | 18   | 1.0    | [0.0, 10.0, 0.5] | 1.0     | [18.0, 1.0, 0.0, 10.0, 0.5]"
      ]
    },
    {
      "cell_type": "code",
      "execution_count": null,
      "metadata": {
        "jupyter": {
          "outputs_hidden": false
        },
        "colab": {
          "base_uri": "https://localhost:8080/"
        },
        "id": "DeLfZ-i5lTfC",
        "outputId": "2adf07a8-0008-48e5-ed37-b0b592b3cc6d"
      },
      "outputs": [
        {
          "output_type": "stream",
          "name": "stdout",
          "text": [
            "+---+----+------+--------------+-------+\n",
            "| id|hour|mobile|  userFeatures|clicked|\n",
            "+---+----+------+--------------+-------+\n",
            "|  0|  18|   1.0|[0.0,10.0,0.5]|    1.0|\n",
            "+---+----+------+--------------+-------+\n",
            "\n"
          ]
        }
      ],
      "source": [
        "#Testati exemplul de mai sus\n",
        "#Import Vectors, VectorAssembler\n",
        "from pyspark.ml.linalg import Vectors\n",
        "from pyspark.ml.feature import VectorAssembler\n",
        "\n",
        "#Creati DataFrame-ul cu o singura linie de mai sus\n",
        "dataset = spark.createDataFrame(\n",
        "    [(0, 18, 1.0, Vectors.dense([0.0, 10.0, 0.5]), 1.0)],\n",
        "    [\"id\", \"hour\", \"mobile\", \"userFeatures\", \"clicked\"])\n",
        "dataset.show()"
      ]
    },
    {
      "cell_type": "code",
      "execution_count": null,
      "metadata": {
        "jupyter": {
          "outputs_hidden": false
        },
        "colab": {
          "base_uri": "https://localhost:8080/"
        },
        "id": "eKsZvFDslTfD",
        "outputId": "20f4d2d1-f23b-4c42-cf30-ae42ae8ff8c2"
      },
      "outputs": [
        {
          "output_type": "stream",
          "name": "stdout",
          "text": [
            "Assembled columns 'hour', 'mobile', 'userFeatures' to vector column 'features'\n",
            "+----+------+--------------+-------------------------------+\n",
            "|hour|mobile|userFeatures  |features                       |\n",
            "+----+------+--------------+-------------------------------+\n",
            "|18  |1.0   |[0.0,10.0,0.5]|[0.0,18.0,1.0,0.0,10.0,0.5,1.0]|\n",
            "+----+------+--------------+-------------------------------+\n",
            "\n"
          ]
        }
      ],
      "source": [
        "# Creați obiectul VectorAssembler\n",
        "assembler = VectorAssembler(inputCols=[\"id\", \"hour\", \"mobile\", \"userFeatures\", \"clicked\"],outputCol=\"features\")\n",
        "\n",
        "#Transformați datele, aplicând acest asamblor\n",
        "output = assembler.transform(dataset)\n",
        "\n",
        "print(\"Assembled columns 'hour', 'mobile', 'userFeatures' to vector column 'features'\")\n",
        "\n",
        "#Afișați coloanele features și clicked, fără trunchere\n",
        "output.select('hour', 'mobile', 'userFeatures','features').show(truncate=False)\n"
      ]
    },
    {
      "cell_type": "markdown",
      "metadata": {
        "id": "JlBwT_-dlTfD"
      },
      "source": [
        "Celelalte transformări au fost prezentate parțial la curs. Pentru detalii asupra tuturor tipurilor de transformări se va consulta documentația."
      ]
    },
    {
      "cell_type": "code",
      "execution_count": null,
      "metadata": {
        "collapsed": true,
        "jupyter": {
          "outputs_hidden": true
        },
        "colab": {
          "base_uri": "https://localhost:8080/"
        },
        "id": "sfIH9EeIlTfD",
        "outputId": "ccceda1d-fc91-4d20-a41f-4d15f092bf39"
      },
      "outputs": [
        {
          "output_type": "stream",
          "name": "stdout",
          "text": [
            "+-------+----------+-----+----------+--------+\n",
            "|Name   |Phone     |Group|groupIndex|features|\n",
            "+-------+----------+-----+----------+--------+\n",
            "|John   |4085552424|A    |0.0       |[0.0]   |\n",
            "|Mike   |3105552738|B    |1.0       |[1.0]   |\n",
            "|Cassie |4085552424|B    |1.0       |[1.0]   |\n",
            "|Laura  |3105552438|B    |1.0       |[1.0]   |\n",
            "|Sarah  |4085551234|A    |0.0       |[0.0]   |\n",
            "|David  |3105557463|C    |2.0       |[2.0]   |\n",
            "|Zach   |4085553987|C    |2.0       |[2.0]   |\n",
            "|Kiera  |3105552938|A    |0.0       |[0.0]   |\n",
            "|Alexa  |4085559467|C    |2.0       |[2.0]   |\n",
            "|Karissa|3105553475|A    |0.0       |[0.0]   |\n",
            "+-------+----------+-----+----------+--------+\n",
            "\n"
          ]
        }
      ],
      "source": [
        "assembler_c=VectorAssembler(inputCols=[\"groupIndex\"],outputCol=\"features\")\n",
        "output_c = assembler_c.transform(indexed_c)\n",
        "output_c.show(truncate=False)"
      ]
    }
  ],
  "metadata": {
    "anaconda-cloud": {},
    "kernelspec": {
      "display_name": "Python 3",
      "language": "python",
      "name": "python3"
    },
    "language_info": {
      "codemirror_mode": {
        "name": "ipython",
        "version": 3
      },
      "file_extension": ".py",
      "mimetype": "text/x-python",
      "name": "python",
      "nbconvert_exporter": "python",
      "pygments_lexer": "ipython3",
      "version": "3.8.5"
    },
    "colab": {
      "provenance": [],
      "include_colab_link": true
    }
  },
  "nbformat": 4,
  "nbformat_minor": 0
}