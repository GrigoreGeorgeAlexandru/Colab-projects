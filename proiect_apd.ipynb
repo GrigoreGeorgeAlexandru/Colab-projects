{
  "nbformat": 4,
  "nbformat_minor": 0,
  "metadata": {
    "colab": {
      "provenance": [],
      "include_colab_link": true
    },
    "kernelspec": {
      "name": "python3",
      "display_name": "Python 3"
    },
    "language_info": {
      "name": "python"
    }
  },
  "cells": [
    {
      "cell_type": "markdown",
      "metadata": {
        "id": "view-in-github",
        "colab_type": "text"
      },
      "source": [
        "<a href=\"https://colab.research.google.com/github/GrigoreGeorgeAlexandru/Colab-projects/blob/main/proiect_apd.ipynb\" target=\"_parent\"><img src=\"https://colab.research.google.com/assets/colab-badge.svg\" alt=\"Open In Colab\"/></a>"
      ]
    },
    {
      "cell_type": "code",
      "source": [
        "! pip install mpi4py"
      ],
      "metadata": {
        "colab": {
          "base_uri": "https://localhost:8080/"
        },
        "id": "xjw6hq2J9bEI",
        "outputId": "1e70d182-3112-4983-b7a9-b9712f90c9c9"
      },
      "execution_count": null,
      "outputs": [
        {
          "output_type": "stream",
          "name": "stdout",
          "text": [
            "Requirement already satisfied: mpi4py in /usr/local/lib/python3.11/dist-packages (4.0.3)\n"
          ]
        }
      ]
    },
    {
      "cell_type": "code",
      "execution_count": null,
      "metadata": {
        "colab": {
          "base_uri": "https://localhost:8080/"
        },
        "id": "G6DBkSoU62Nj",
        "outputId": "66fa3d59-8ea4-4620-9edf-5518d9e21ea7"
      },
      "outputs": [
        {
          "output_type": "stream",
          "name": "stdout",
          "text": [
            "Initial values: [ 10  20  30  40  50  60  70  80  90 100]\n",
            "Final values after 586 iterations: [54.99995547 54.99997737 54.99994864 54.99997737 54.99998765 54.99994864\n",
            " 55.00000882 55.00004592 55.00007506 55.00007506]\n"
          ]
        },
        {
          "output_type": "execute_result",
          "data": {
            "text/plain": [
              "array([54.99995547, 54.99997737, 54.99994864, 54.99997737, 54.99998765,\n",
              "       54.99994864, 55.00000882, 55.00004592, 55.00007506, 55.00007506])"
            ]
          },
          "metadata": {},
          "execution_count": 10
        }
      ],
      "source": [
        "import numpy as np\n",
        "import random\n",
        "\n",
        "\n",
        "preset_graph = {\n",
        "    0: {1, 2},\n",
        "    1: {0, 3, 4},\n",
        "    2: {0, 5},\n",
        "    3: {1, 6},\n",
        "    4: {1, 6, 7},\n",
        "    5: {2, 7},\n",
        "    6: {3, 4, 8},\n",
        "    7: {4, 5, 9},\n",
        "    8: {6, 9},\n",
        "    9: {7, 8}\n",
        "}\n",
        "\n",
        "preset_values = np.array([10, 20, 30, 40, 50, 60, 70, 80, 90, 100])\n",
        "\n",
        "def gossip_algorithm(graph, values, tolerance=1e-4, max_iterations=5000):\n",
        "\n",
        "    num_nodes = len(graph)\n",
        "    global_avg = np.mean(values)\n",
        "\n",
        "    # initializare W\n",
        "    W = np.eye(num_nodes)\n",
        "\n",
        "    print(\"Initial values:\", values)\n",
        "\n",
        "    iteration = 0\n",
        "    while iteration < max_iterations:\n",
        "        # Alegem o muchie la intamplare\n",
        "        node1 = random.choice(list(graph.keys()))\n",
        "        if not graph[node1]:\n",
        "            continue\n",
        "        node2 = random.choice(list(graph[node1]))\n",
        "\n",
        "        # Construim Wij pentru pasul curent\n",
        "        Wij = np.eye(num_nodes)\n",
        "        Wij[node1, node1] = Wij[node2, node2] = 0.5\n",
        "        Wij[node1, node2] = Wij[node2, node1] = 0.5\n",
        "\n",
        "        # Updatam W\n",
        "        W = np.dot(Wij, W)\n",
        "\n",
        "        # Updatam vectorul de valori\n",
        "        values = np.dot(Wij, values)\n",
        "\n",
        "        # Verificam conditia de oprire\n",
        "        if np.max(np.abs(values - global_avg)) < tolerance:\n",
        "            break\n",
        "\n",
        "        iteration += 1\n",
        "\n",
        "    print(f\"Final values after {iteration} iterations:\", values)\n",
        "    return values\n",
        "\n",
        "#main\n",
        "gossip_algorithm(graph=preset_graph, values=preset_values)\n"
      ]
    },
    {
      "cell_type": "code",
      "source": [
        "#lab 1 ex1\n",
        "import multiprocessing\n",
        "import time\n",
        "import random\n",
        "\n",
        "def worker(proc_id, barrier):\n",
        "\n",
        "    if proc_id == 0:\n",
        "        # Procesul root simulează o activitate dormind 4 secunde\n",
        "        time.sleep(4)\n",
        "        barrier.wait()\n",
        "        print(f\"Proces {proc_id}: Am terminat activitatea inițială.\\n\")\n",
        "    else:\n",
        "        # Toate celelalte procesoare așteaptă root-ul\n",
        "        barrier.wait()\n",
        "        print(f\"Proces {proc_id}: Mă pregătesc de lucru...\\n\")\n",
        "\n",
        "        # Simulăm o activitate între 0 și 10 secunde\n",
        "        sleep_time = random.randint(0, 10)\n",
        "        time.sleep(sleep_time)\n",
        "        print(f\"Proces {proc_id}: Activitate finalizată după {sleep_time} secunde.\\n\")\n",
        "\n",
        "    # A doua sincronizare - toate procesele așteaptă înainte de final\n",
        "    barrier.wait()\n",
        "    if proc_id == 0:\n",
        "        print(\"Proces root: Toate procesele s-au terminat. Program încheiat.\\n\")\n",
        "    return 0\n",
        "\n",
        "if __name__ == \"__main__\":\n",
        "    num_procs = 5  # Număr de procese\n",
        "    barrier = multiprocessing.Barrier(num_procs)\n",
        "\n",
        "    processes = []\n",
        "    for i in range(num_procs):\n",
        "        p = multiprocessing.Process(target=worker, args=(i, barrier))\n",
        "        processes.append(p)\n",
        "        p.start()\n",
        "\n",
        "    for p in processes:\n",
        "        p.join()\n"
      ],
      "metadata": {
        "colab": {
          "base_uri": "https://localhost:8080/"
        },
        "id": "JhiD93W6Fddk",
        "outputId": "8dff330a-b5fd-4274-d01b-10e43445a913"
      },
      "execution_count": null,
      "outputs": [
        {
          "output_type": "stream",
          "name": "stdout",
          "text": [
            "Proces 3: Mă pregătesc de lucru...\n",
            "Proces 2: Mă pregătesc de lucru...\n",
            "Proces 0: Am terminat activitatea inițială.\n",
            "Proces 1: Mă pregătesc de lucru...\n",
            "Proces 4: Mă pregătesc de lucru...\n",
            "\n",
            "\n",
            "\n",
            "\n",
            "\n",
            "Proces 1: Activitate finalizată după 4 secunde.\n",
            "\n",
            "Proces 3: Activitate finalizată după 5 secunde.\n",
            "\n",
            "Proces 2: Activitate finalizată după 7 secunde.\n",
            "Proces 4: Activitate finalizată după 7 secunde.\n",
            "\n",
            "\n",
            "Proces root: Toate procesele s-au terminat. Program încheiat.\n",
            "\n"
          ]
        }
      ]
    },
    {
      "cell_type": "code",
      "source": [
        "#lab1 ex2\n",
        "from mpi4py import MPI\n",
        "\n",
        "comm = MPI.COMM_WORLD  # Inițializează comunicarea MPI\n",
        "rank = comm.Get_rank()  # Obține ID-ul procesului\n",
        "size = comm.Get_size()  # Obține numărul total de procese\n",
        "OMPI_ALLOW_RUN_AS_ROOT=1\n",
        "MPI_ALLOW_RUN_AS_ROOT_CONFIRM=1\n",
        "# Procesul root (0) inițializează datele\n",
        "if rank == 0:\n",
        "    data_dict = {'key1': [3, 24.62, 9 + 4j], 'key2': ('fmi', 'unibuc')}\n",
        "    data_vector = [10, 20, 30, 40, 50]\n",
        "    print(f\"[Root] Procesul {rank} trimite: {data_dict} și {data_vector}\")\n",
        "else:\n",
        "    data_dict = None  # Celelalte procese inițial nu au datele\n",
        "    data_vector = None\n",
        "\n",
        "# Broadcast pentru ambele tipuri de date\n",
        "data_dict = comm.bcast(data_dict, root=0)\n",
        "data_vector = comm.bcast(data_vector, root=0)\n",
        "\n",
        "# Toate procesele primesc și afișează datele\n",
        "print(f\"[Proces {rank}] A primit: {data_dict} și {data_vector}\")\n",
        "\n",
        "!mpiexec --allow-run-as-root -n 6 python broadcast_mpi.py\n",
        "\n"
      ],
      "metadata": {
        "colab": {
          "base_uri": "https://localhost:8080/",
          "height": 394
        },
        "id": "-ECPYrwOGWzy",
        "outputId": "53b22b6c-f3e8-409e-90e3-c407101aa63e"
      },
      "execution_count": null,
      "outputs": [
        {
          "output_type": "error",
          "ename": "ModuleNotFoundError",
          "evalue": "No module named 'mpi4py'",
          "traceback": [
            "\u001b[0;31m---------------------------------------------------------------------------\u001b[0m",
            "\u001b[0;31mModuleNotFoundError\u001b[0m                       Traceback (most recent call last)",
            "\u001b[0;32m<ipython-input-1-41aab2fdc66f>\u001b[0m in \u001b[0;36m<cell line: 0>\u001b[0;34m()\u001b[0m\n\u001b[1;32m      1\u001b[0m \u001b[0;31m#lab1 ex2\u001b[0m\u001b[0;34m\u001b[0m\u001b[0;34m\u001b[0m\u001b[0m\n\u001b[0;32m----> 2\u001b[0;31m \u001b[0;32mfrom\u001b[0m \u001b[0mmpi4py\u001b[0m \u001b[0;32mimport\u001b[0m \u001b[0mMPI\u001b[0m\u001b[0;34m\u001b[0m\u001b[0;34m\u001b[0m\u001b[0m\n\u001b[0m\u001b[1;32m      3\u001b[0m \u001b[0;34m\u001b[0m\u001b[0m\n\u001b[1;32m      4\u001b[0m \u001b[0mcomm\u001b[0m \u001b[0;34m=\u001b[0m \u001b[0mMPI\u001b[0m\u001b[0;34m.\u001b[0m\u001b[0mCOMM_WORLD\u001b[0m  \u001b[0;31m# Inițializează comunicarea MPI\u001b[0m\u001b[0;34m\u001b[0m\u001b[0;34m\u001b[0m\u001b[0m\n\u001b[1;32m      5\u001b[0m \u001b[0mrank\u001b[0m \u001b[0;34m=\u001b[0m \u001b[0mcomm\u001b[0m\u001b[0;34m.\u001b[0m\u001b[0mGet_rank\u001b[0m\u001b[0;34m(\u001b[0m\u001b[0;34m)\u001b[0m  \u001b[0;31m# Obține ID-ul procesului\u001b[0m\u001b[0;34m\u001b[0m\u001b[0;34m\u001b[0m\u001b[0m\n",
            "\u001b[0;31mModuleNotFoundError\u001b[0m: No module named 'mpi4py'",
            "",
            "\u001b[0;31m---------------------------------------------------------------------------\u001b[0;32m\nNOTE: If your import is failing due to a missing package, you can\nmanually install dependencies using either !pip or !apt.\n\nTo view examples of installing some common dependencies, click the\n\"Open Examples\" button below.\n\u001b[0;31m---------------------------------------------------------------------------\u001b[0m\n"
          ],
          "errorDetails": {
            "actions": [
              {
                "action": "open_url",
                "actionText": "Open Examples",
                "url": "/notebooks/snippets/importing_libraries.ipynb"
              }
            ]
          }
        }
      ]
    },
    {
      "cell_type": "code",
      "source": [
        "from mpi4py import MPI\n",
        "import numpy as np\n",
        "\n",
        "# Inițializare MPI\n",
        "comm = MPI.COMM_WORLD\n",
        "rank = comm.Get_rank()\n",
        "size = comm.Get_size()\n",
        "\n",
        "# Procesul root creează matricea\n",
        "if rank == 0:\n",
        "    p = size\n",
        "    matrix = np.random.rand(p, p)\n",
        "    print(f\"[Root] Matricea inițială:\\n{matrix}\\n\")\n",
        "else:\n",
        "    matrix = None  #\n",
        "\n",
        "# Buffere pentru datele primite de fiecare proces\n",
        "row_recv = np.zeros(size)\n",
        "col_recv = np.zeros(size)\n",
        "\n",
        "# Procesul root pregătește liniile și coloanele ca array-uri NumPy\n",
        "if rank == 0:\n",
        "    rows = np.vstack([matrix[i, :] for i in range(size)])  # Stack pe linii\n",
        "    cols = np.vstack([matrix[:, i] for i in range(size)])  # Stack pe coloane\n",
        "else:\n",
        "    rows = None\n",
        "    cols = None\n",
        "\n",
        "# Distribuim liniile și coloanele către fiecare proces\n",
        "comm.Scatter(rows, row_recv, root=0)\n",
        "comm.Scatter(cols, col_recv, root=0)\n",
        "\n",
        "# Fiecare proces afișează datele primite\n",
        "print(f\"[Proces {rank}] A primit linia: {row_recv} și coloana: {col_recv}\")\n",
        "\n",
        "!mpirun -np 4 python scatter.py\n"
      ],
      "metadata": {
        "colab": {
          "base_uri": "https://localhost:8080/"
        },
        "id": "ReSJZ_Y3GWxB",
        "outputId": "f32bc05f-6c84-4e4c-f0e8-719e618bfcd0"
      },
      "execution_count": null,
      "outputs": [
        {
          "output_type": "stream",
          "name": "stdout",
          "text": [
            "[Root] Matricea inițială:\n",
            "[[0.736279]]\n",
            "\n",
            "[Proces 0] A primit linia: [0.736279] și coloana: [0.736279]\n"
          ]
        }
      ]
    },
    {
      "cell_type": "code",
      "source": [
        "from mpi4py import MPI\n",
        "import numpy as np\n",
        "\n",
        "comm = MPI.COMM_WORLD\n",
        "rank = comm.Get_rank()\n",
        "size = comm.Get_size()\n",
        "\n",
        "# Dimensiunea matricei și vectorului\n",
        "n = size\n",
        "\n",
        "# Buffere locale\n",
        "col = None\n",
        "x_i = None\n",
        "y_partial = np.zeros(n, dtype=np.float64)\n",
        "\n",
        "if rank == 0:\n",
        "    # Procesul 0 generează matricea și vectorul\n",
        "    A = np.arange(1, n * n + 1, dtype=np.float64).reshape(n, n)\n",
        "    x = np.arange(1, n + 1, dtype=np.float64)\n",
        "\n",
        "    print(\"\\nMatricea A:\\n\", A)\n",
        "    print(\"\\nVectorul x:\\n\", x)\n",
        "\n",
        "    # Trimitem coloanele și componentele vectorului\n",
        "    for i in range(n):\n",
        "        col_data = A[:, i]  # Coloana i\n",
        "        x_data = x[i]       # Componenta vectorului\n",
        "        if i == 0:\n",
        "            col = col_data\n",
        "            x_i = x_data\n",
        "        else:\n",
        "            comm.Send(col_data, dest=i, tag=0)\n",
        "            comm.Send(np.array([x_data]), dest=i, tag=1)\n",
        "else:\n",
        "    # Procesele primesc datele\n",
        "    col = np.zeros(n, dtype=np.float64)\n",
        "    comm.Recv(col, source=0, tag=0)\n",
        "    x_i = np.zeros(1, dtype=np.float64)\n",
        "    comm.Recv(x_i, source=0, tag=1)\n",
        "    x_i = x_i[0]\n",
        "\n",
        "# Calcul local: coloană * componentă vector\n",
        "y_partial = col * x_i\n",
        "\n",
        "# Comunicarea în inel\n",
        "recv_buffer = np.zeros(n, dtype=np.float64)\n",
        "for step in range(size - 1):\n",
        "    left = (rank - 1) % size\n",
        "    right = (rank + 1) % size\n",
        "\n",
        "    comm.Sendrecv(y_partial, dest=right, sendtag=2,\n",
        "                  recvbuf=recv_buffer, source=left, recvtag=2)\n",
        "\n",
        "    y_partial += recv_buffer\n",
        "\n",
        "# Afișăm rezultatul final în fiecare proces\n",
        "print(f\"\\nProces {rank}: y = {y_partial}\")\n",
        "\n",
        "MPI.Finalize()\n"
      ],
      "metadata": {
        "colab": {
          "base_uri": "https://localhost:8080/"
        },
        "id": "MYo1fIBcGWuM",
        "outputId": "9855bba7-4f3c-4642-e7e1-766d3bae030f"
      },
      "execution_count": null,
      "outputs": [
        {
          "output_type": "stream",
          "name": "stdout",
          "text": [
            "\n",
            "Matricea A:\n",
            " [[1.]]\n",
            "\n",
            "Vectorul x:\n",
            " [1.]\n",
            "\n",
            "Proces 0: y = [1.]\n"
          ]
        }
      ]
    },
    {
      "cell_type": "code",
      "source": [
        "from mpi4py import MPI\n",
        "import numpy as np\n",
        "\n",
        "comm = MPI.COMM_WORLD\n",
        "rank = comm.Get_rank()\n",
        "size = comm.Get_size()\n",
        "\n",
        "n = size  # Dimensiunea matricei = numărul de procese\n",
        "\n",
        "# Buffere locale\n",
        "col_A = np.zeros(n, dtype=np.float64)  # Coloana din A\n",
        "matrix_B = np.zeros((n, n), dtype=np.float64)  # Matricea B\n",
        "result_partial = np.zeros(n, dtype=np.float64)  # Rezultatul parțial\n",
        "\n",
        "if rank == 0:\n",
        "    # Procesul 0 generează matricele\n",
        "    A = np.arange(1, n * n + 1, dtype=np.float64).reshape(n, n)\n",
        "    B = np.arange(1, n * n + 1, dtype=np.float64).reshape(n, n)\n",
        "\n",
        "    print(\"\\nMatricea A:\\n\", A)\n",
        "    print(\"\\nMatricea B:\\n\", B)\n",
        "\n",
        "    # Trimitem coloanele din A\n",
        "    for i in range(n):\n",
        "        col_data = A[:, i]\n",
        "        if i == 0:\n",
        "            col_A[:] = col_data\n",
        "        else:\n",
        "            comm.Send(col_data, dest=i, tag=0)\n",
        "\n",
        "    # Broadcast pentru matricea B (toate procesele primesc întreaga matrice B)\n",
        "    matrix_B = B\n",
        "    comm.bcast(matrix_B, root=0)\n",
        "else:\n",
        "    # Celelalte procese primesc coloana din A\n",
        "    comm.Recv(col_A, source=0, tag=0)\n",
        "    # Broadcast pentru matricea B\n",
        "    comm.bcast(matrix_B, root=0)\n",
        "\n",
        "# Calcul local: fiecare proces calculează produsul coloanei din A cu fiecare rând din B\n",
        "result_partial = np.dot(matrix_B, col_A)\n",
        "\n",
        "# Comunicarea în inel pentru acumularea rezultatelor\n",
        "recv_buffer = np.zeros(n, dtype=np.float64)\n",
        "for step in range(size - 1):\n",
        "    left = (rank - 1) % size\n",
        "    right = (rank + 1) % size\n",
        "\n",
        "    comm.Sendrecv(result_partial, dest=right, sendtag=1,\n",
        "                  recvbuf=recv_buffer, source=left, recvtag=1)\n",
        "\n",
        "    result_partial += recv_buffer\n",
        "\n",
        "# Afișăm rezultatul final\n",
        "print(f\"\\nProces {rank} - Coloana finală din C: {result_partial}\")\n",
        "\n",
        "MPI.Finalize()\n"
      ],
      "metadata": {
        "colab": {
          "base_uri": "https://localhost:8080/"
        },
        "id": "ejfXNHOBGWrb",
        "outputId": "24c810db-3b01-4956-b34b-c75d18d40378"
      },
      "execution_count": null,
      "outputs": [
        {
          "output_type": "stream",
          "name": "stdout",
          "text": [
            "\n",
            "Matricea A:\n",
            " [[1.]]\n",
            "\n",
            "Matricea B:\n",
            " [[1.]]\n",
            "\n",
            "Proces 0 - Coloana finală din C: [1.]\n"
          ]
        }
      ]
    },
    {
      "cell_type": "code",
      "source": [
        "from mpi4py import MPI\n",
        "import numpy as np\n",
        "\n",
        "def hypercube_transfer(vector, source, dest, d, comm):\n",
        "\n",
        "    rank = comm.Get_rank()\n",
        "    current = source\n",
        "\n",
        "    if rank == source:\n",
        "        # Sursa inițială începe cu vectorul său\n",
        "        buffer = vector.copy()\n",
        "    else:\n",
        "        # Celelalte noduri primesc vectorul de la predecesor\n",
        "        buffer = np.zeros_like(vector)\n",
        "\n",
        "    # Parcurgem fiecare dimensiune unde diferă un bit\n",
        "    for bit in range(d):\n",
        "        bit_mask = 1 << bit\n",
        "        partner = current ^ bit_mask  # Schimbăm bit-ul corespunzător\n",
        "\n",
        "        # Transfer în direcția corectă\n",
        "        if rank == current:\n",
        "            comm.Send(buffer, dest=partner, tag=bit)\n",
        "            current = partner\n",
        "        elif rank == partner:\n",
        "            comm.Recv(buffer, source=current, tag=bit)\n",
        "            current = rank\n",
        "\n",
        "    return buffer if rank == dest else None\n",
        "\n",
        "\n",
        "def main():\n",
        "    comm = MPI.COMM_WORLD\n",
        "    rank = comm.Get_rank()\n",
        "    size = comm.Get_size()\n",
        "\n",
        "    # Calculăm dimensiunea d a hipercubului: 2^d = size\n",
        "    d = int(np.log2(size))\n",
        "\n",
        "    # Vector de dimensiune n\n",
        "    n = 8\n",
        "    vector = np.arange(n, dtype=np.float64) + rank  # Vector diferit în fiecare proces\n",
        "    source, dest = 0, size - 1  # Transferăm de la primul la ultimul proces\n",
        "\n",
        "    # Procesul sursă afișează vectorul original\n",
        "    if rank == source:\n",
        "        print(f\"\\nProces {rank} - Vector inițial: {vector}\")\n",
        "\n",
        "    # Executăm transferul în hipercub\n",
        "    result = hypercube_transfer(vector, source, dest, d, comm)\n",
        "\n",
        "    # Procesul destinație afișează vectorul primit\n",
        "    if rank == dest:\n",
        "        print(f\"\\nProces {rank} - Vector primit: {result}\")\n",
        "\n",
        "    MPI.Finalize()\n",
        "\n",
        "\n",
        "if __name__ == \"__main__\":\n",
        "    main()\n"
      ],
      "metadata": {
        "colab": {
          "base_uri": "https://localhost:8080/"
        },
        "id": "KONLqUDAGWob",
        "outputId": "c9a4af3c-d5ef-4d8a-9981-f2ddb61f48ef"
      },
      "execution_count": null,
      "outputs": [
        {
          "output_type": "stream",
          "name": "stdout",
          "text": [
            "\n",
            "Proces 0 - Vector inițial: [0. 1. 2. 3. 4. 5. 6. 7.]\n",
            "\n",
            "Proces 0 - Vector primit: [0. 1. 2. 3. 4. 5. 6. 7.]\n"
          ]
        }
      ]
    },
    {
      "cell_type": "code",
      "source": [
        "from mpi4py import MPI\n",
        "import numpy as np\n",
        "\n",
        "def hypercube_broadcast(data, root, comm):\n",
        "    \"\"\"\n",
        "    Difuzare a unui mesaj într-un hipercub folosind MPI.\n",
        "    - data: mesajul de transmis (doar la root).\n",
        "    - root: procesul de pornire.\n",
        "    - comm: comunicatorul MPI.\n",
        "    \"\"\"\n",
        "    rank = comm.Get_rank()       # ID-ul procesului curent\n",
        "    size = comm.Get_size()       # Numărul total de procese\n",
        "    d = int(np.log2(size))       # Dimensiunea hipercubului\n",
        "\n",
        "    # Rădăcina difuzează mesajul\n",
        "    if rank == root:\n",
        "        buffer = np.array(data, dtype=np.float64)\n",
        "    else:\n",
        "        buffer = np.zeros(1, dtype=np.float64)\n",
        "\n",
        "    # Parcurgem fiecare dimensiune a hipercubului\n",
        "    for bit in range(d):\n",
        "        bit_mask = 1 << bit\n",
        "        partner = rank ^ bit_mask  # Vecinul diferit într-un singur bit\n",
        "\n",
        "        # Root începe difuzarea\n",
        "        if rank <= partner:\n",
        "            if rank == root or buffer[0] != 0:\n",
        "                comm.Send(buffer, dest=partner)\n",
        "        else:\n",
        "            comm.Recv(buffer, source=partner)\n",
        "\n",
        "    return buffer if buffer.ndim == 0 else buffer[0]\n",
        "\n",
        "\n",
        "def main():\n",
        "    comm = MPI.COMM_WORLD\n",
        "    rank = comm.Get_rank()\n",
        "    size = comm.Get_size()\n",
        "\n",
        "    root = 0  # Procesul care inițiază difuzarea\n",
        "    data = 42 if rank == root else None  # Numărul de transmis\n",
        "\n",
        "    result = hypercube_broadcast(data, root, comm)\n",
        "\n",
        "    print(f\"Proces {rank} a primit mesajul: {result}\")\n",
        "\n",
        "    MPI.Finalize()\n",
        "\n",
        "\n",
        "if __name__ == \"__main__\":\n",
        "    main()\n"
      ],
      "metadata": {
        "colab": {
          "base_uri": "https://localhost:8080/"
        },
        "id": "PpyU_XCWGWlV",
        "outputId": "98e4a9cb-919a-4894-b9c0-519249a90b29"
      },
      "execution_count": null,
      "outputs": [
        {
          "output_type": "stream",
          "name": "stdout",
          "text": [
            "Proces 0 a primit mesajul: 42.0\n"
          ]
        }
      ]
    },
    {
      "cell_type": "code",
      "source": [
        "import numpy as np\n",
        "import matplotlib.pyplot as plt\n",
        "import time\n",
        "\n",
        "# Generăm matricea A (cu diagonală dominantă) și vectorul b\n",
        "def generate_system(n):\n",
        "    A = np.random.rand(n, n)\n",
        "    np.fill_diagonal(A, np.sum(np.abs(A), axis=1) + 1)  # Asigurăm diagonală dominantă\n",
        "    b = np.random.rand(n)\n",
        "\n",
        "    return A, b\n",
        "\n",
        "# Metoda Jacobi\n",
        "def jacobi(A, b, x0, tol=1e-8, max_iter=500):\n",
        "    D = np.diag(A)\n",
        "    R = A - np.diagflat(D)\n",
        "    x = x0.copy()\n",
        "    errors = []\n",
        "    for _ in range(max_iter):\n",
        "        x_new = (b - np.dot(R, x)) / D\n",
        "        error = np.linalg.norm(x_new - x, ord=np.inf)\n",
        "        errors.append(error)\n",
        "        if error < tol:\n",
        "            break\n",
        "        x = x_new\n",
        "    return x, errors\n",
        "\n",
        "# Metoda Gauss-Seidel\n",
        "def gauss_seidel(A, b, x0, tol=1e-8, max_iter=500):\n",
        "    x = x0.copy()\n",
        "    errors = []\n",
        "    for _ in range(max_iter):\n",
        "        x_new = x.copy()\n",
        "        for i in range(len(b)):\n",
        "            x_new[i] = (b[i] - np.dot(A[i, :i], x_new[:i]) - np.dot(A[i, i+1:], x[i+1:])) / A[i, i]\n",
        "        error = np.linalg.norm(x_new - x, ord=np.inf)\n",
        "        errors.append(error)\n",
        "        if error < tol:\n",
        "            break\n",
        "        x = x_new\n",
        "    return x, errors\n",
        "\n",
        "# Comparăm cele două metode pentru dimensiuni diferite\n",
        "def compare_methods(sizes):\n",
        "    for n in sizes:\n",
        "        print(f\"\\nDimensiune: {n}\")\n",
        "        A, b = generate_system(n)\n",
        "        x0 = np.zeros(n)\n",
        "\n",
        "        # Jacobi\n",
        "        start = time.time()\n",
        "        _, errors_jacobi = jacobi(A, b, x0)\n",
        "        time_jacobi = time.time() - start\n",
        "\n",
        "        # Gauss-Seidel\n",
        "        start = time.time()\n",
        "        _, errors_gs = gauss_seidel(A, b, x0)\n",
        "        time_gs = time.time() - start\n",
        "\n",
        "        # Grafic\n",
        "        plt.plot(errors_jacobi, label='Jacobi')\n",
        "        plt.plot(errors_gs, label='Gauss-Seidel')\n",
        "        plt.yscale('log')\n",
        "        plt.xlabel('Iterații')\n",
        "        plt.ylabel('Eroare')\n",
        "        plt.title(f'Comparatie: Jacobi vs. Gauss-Seidel (n={n})')\n",
        "        plt.legend()\n",
        "        plt.show()\n",
        "\n",
        "        print(f\"Jacobi: {len(errors_jacobi)} iterații, timp {time_jacobi:.4f}s\")\n",
        "        print(f\"Gauss-Seidel: {len(errors_gs)} iterații, timp {time_gs:.4f}s\")\n",
        "\n",
        "# Rulează comparația\n",
        "compare_methods([100, 1000])\n"
      ],
      "metadata": {
        "colab": {
          "base_uri": "https://localhost:8080/",
          "height": 1000
        },
        "id": "PeukZILEGWfn",
        "outputId": "b3da2bc8-7953-4ac7-f524-19b22fb7f53f"
      },
      "execution_count": null,
      "outputs": [
        {
          "output_type": "stream",
          "name": "stdout",
          "text": [
            "\n",
            "Dimensiune: 100\n"
          ]
        },
        {
          "output_type": "display_data",
          "data": {
            "text/plain": [
              "<Figure size 640x480 with 1 Axes>"
            ],
            "image/png": "[encoded data removed]"
          },
          "metadata": {}
        },
        {
          "output_type": "stream",
          "name": "stdout",
          "text": [
            "Jacobi: 474 iterații, timp 0.0263s\n",
            "Gauss-Seidel: 11 iterații, timp 0.0074s\n",
            "\n",
            "Dimensiune: 1000\n"
          ]
        },
        {
          "output_type": "display_data",
          "data": {
            "text/plain": [
              "<Figure size 640x480 with 1 Axes>"
            ],
            "image/png": "[encoded data removed]"
          },
          "metadata": {}
        },
        {
          "output_type": "stream",
          "name": "stdout",
          "text": [
            "Jacobi: 500 iterații, timp 0.3877s\n",
            "Gauss-Seidel: 9 iterații, timp 0.1295s\n"
          ]
        }
      ]
    },
    {
      "cell_type": "code",
      "source": [
        "from mpi4py import MPI\n",
        "import numpy as np\n",
        "import time\n",
        "\n",
        "comm = MPI.COMM_WORLD\n",
        "rank = comm.Get_rank()\n",
        "size = comm.Get_size()\n",
        "\n",
        "# Distribuție matrice și vector în funcție de topologie\n",
        "def distribute_data(A, b, n):\n",
        "    rows_per_proc = n // size\n",
        "    A_local = A[rank * rows_per_proc:(rank + 1) * rows_per_proc, :]\n",
        "    b_local = b[rank * rows_per_proc:(rank + 1) * rows_per_proc]\n",
        "    return A_local, b_local\n",
        "\n",
        "# Paralelizare Jacobi\n",
        "def parallel_jacobi(A, b, x, tol=1e-8, max_iter=500):\n",
        "    A_local, b_local = distribute_data(A, b, len(b))\n",
        "    D = np.diag(A_local)\n",
        "    R = A_local - np.diagflat(D)\n",
        "    errors = []\n",
        "\n",
        "    for _ in range(max_iter):\n",
        "        x_new_local = (b_local - np.dot(R, x)) / D\n",
        "        comm.Allgather(x_new_local, x)  # Colectăm rezultatele de la toate procesele\n",
        "        error = np.linalg.norm(x_new_local - x, ord=np.inf)\n",
        "        errors.append(error)\n",
        "        if error < tol:\n",
        "            break\n",
        "\n",
        "    return x, errors\n",
        "\n",
        "# Paralelizare Gauss-Seidel pe inel\n",
        "def parallel_gauss_seidel(A, b, x, tol=1e-8, max_iter=500):\n",
        "    A_local, b_local = distribute_data(A, b, len(b))\n",
        "    errors = []\n",
        "    for _ in range(max_iter):\n",
        "        for i in range(len(b_local)):\n",
        "            x[i] = (b_local[i] - np.dot(A_local[i, :i], x[:i]) - np.dot(A_local[i, i + 1:], x[i + 1:])) / A_local[i, i]\n",
        "            comm.Sendrecv_replace(x, dest=(rank + 1) % size, source=(rank - 1) % size)\n",
        "        error = np.linalg.norm(x - comm.allreduce(x, op=MPI.SUM), ord=np.inf)\n",
        "        errors.append(error)\n",
        "        if error < tol:\n",
        "            break\n",
        "\n",
        "    return x, errors\n",
        "\n",
        "# Comparăm metodele\n",
        "if rank == 0:\n",
        "    n = 5000\n",
        "    A = np.random.rand(n, n)\n",
        "    np.fill_diagonal(A, np.sum(np.abs(A), axis=1) + 1)\n",
        "    b = np.random.rand(n)\n",
        "else:\n",
        "    A = None\n",
        "    b = None\n",
        "\n",
        "A = comm.bcast(A, root=0)\n",
        "b = comm.bcast(b, root=0)\n",
        "\n",
        "x0 = np.zeros(len(b))\n",
        "\n",
        "start = time.time()\n",
        "x_jacobi, errors_jacobi = parallel_jacobi(A, b, x0)\n",
        "time_jacobi = time.time() - start\n",
        "\n",
        "start = time.time()\n",
        "x_gauss_seidel, errors_gs = parallel_gauss_seidel(A, b, x0)\n",
        "time_gs = time.time() - start\n",
        "\n",
        "if rank == 0:\n",
        "    print(f\"Jacobi Paralel: {time_jacobi:.4f}s\")\n",
        "    print(f\"Gauss-Seidel Paralel: {time_gs:.4f}s\")\n"
      ],
      "metadata": {
        "colab": {
          "base_uri": "https://localhost:8080/"
        },
        "id": "tBg7npNtGWSh",
        "outputId": "3c59e1d0-2ef0-48cc-e2f1-f808ab0f5bd3"
      },
      "execution_count": null,
      "outputs": [
        {
          "output_type": "stream",
          "name": "stdout",
          "text": [
            "Jacobi Paralel: 0.1472s\n",
            "Gauss-Seidel Paralel: 0.0860s\n"
          ]
        }
      ]
    },
    {
      "cell_type": "code",
      "source": [
        "from mpi4py import MPI\n",
        "import numpy as np\n",
        "import time\n",
        "\n",
        "comm = MPI.COMM_WORLD\n",
        "rank = comm.Get_rank()\n",
        "size = comm.Get_size()\n",
        "d = int(np.log2(size)) if size > 1 else 0\n",
        "\n",
        "# Distribuție matrice și vector în funcție de topologie\n",
        "def distribute_data(A, b, n):\n",
        "    rows_per_proc = n // size\n",
        "    A_local = A[rank * rows_per_proc:(rank + 1) * rows_per_proc, :]\n",
        "    b_local = b[rank * rows_per_proc:(rank + 1) * rows_per_proc]\n",
        "    return A_local, b_local\n",
        "\n",
        "# Funcție de comunicare pe hipercub\n",
        "def hypercube_broadcast(data, root=0):\n",
        "    if d == 0:\n",
        "        return data\n",
        "\n",
        "    current = rank\n",
        "    mask = 1 << (d - 1)\n",
        "\n",
        "    if rank == root:\n",
        "        buffer = np.array(data, dtype=np.float64)\n",
        "    else:\n",
        "        buffer = np.empty_like(data, dtype=np.float64)\n",
        "\n",
        "    for step in range(d):\n",
        "        partner = current ^ mask\n",
        "        if (current & mask) == 0 and partner < size:\n",
        "            comm.Send(buffer, dest=partner)\n",
        "        elif partner < size:\n",
        "            comm.Recv(buffer, source=partner)\n",
        "        mask >>= 1\n",
        "\n",
        "    return buffer\n",
        "\n",
        "# Paralelizare Jacobi pe hipercub\n",
        "def parallel_jacobi_hypercube(A, b, x, tol=1e-8, max_iter=500):\n",
        "    A_local, b_local = distribute_data(A, b, len(b))\n",
        "    D = np.diag(A_local)\n",
        "    R = A_local - np.diagflat(D)\n",
        "    errors = []\n",
        "\n",
        "    for _ in range(max_iter):\n",
        "        x_new_local = (b_local - np.dot(R, x)) / D\n",
        "        x = hypercube_broadcast(x_new_local)\n",
        "        error = np.linalg.norm(x_new_local - x, ord=np.inf)\n",
        "        errors.append(error)\n",
        "        if error < tol:\n",
        "            break\n",
        "\n",
        "    return x, errors\n",
        "\n",
        "# Paralelizare Gauss-Seidel pe hipercub\n",
        "def parallel_gauss_seidel_hypercube(A, b, x, tol=1e-8, max_iter=500):\n",
        "    A_local, b_local = distribute_data(A, b, len(b))\n",
        "    errors = []\n",
        "\n",
        "    for _ in range(max_iter):\n",
        "        for i in range(len(b_local)):\n",
        "            x[i] = (b_local[i] - np.dot(A_local[i, :i], x[:i]) - np.dot(A_local[i, i + 1:], x[i + 1:])) / A_local[i, i]\n",
        "        x = hypercube_broadcast(x)\n",
        "        error = np.linalg.norm(x - comm.allreduce(x, op=MPI.SUM), ord=np.inf)\n",
        "        errors.append(error)\n",
        "        if error < tol:\n",
        "            break\n",
        "\n",
        "    return x, errors\n",
        "\n",
        "# Comparăm metodele\n",
        "if rank == 0:\n",
        "    n = 5000\n",
        "    A = np.random.rand(n, n)\n",
        "    np.fill_diagonal(A, np.sum(np.abs(A), axis=1) + 1)\n",
        "    b = np.random.rand(n)\n",
        "else:\n",
        "    A = None\n",
        "    b = None\n",
        "\n",
        "A = comm.bcast(A, root=0)\n",
        "b = comm.bcast(b, root=0)\n",
        "\n",
        "x0 = np.zeros(len(b))\n",
        "\n",
        "start = time.time()\n",
        "x_jacobi, errors_jacobi = parallel_jacobi_hypercube(A, b, x0)\n",
        "time_jacobi = time.time() - start\n",
        "\n",
        "start = time.time()\n",
        "x_gauss_seidel, errors_gs = parallel_gauss_seidel_hypercube(A, b, x0)\n",
        "time_gs = time.time() - start\n",
        "\n",
        "if rank == 0:\n",
        "    print(f\"Jacobi Paralel (Hipercub): {time_jacobi:.4f}s\")\n",
        "    print(f\"Gauss-Seidel Paralel (Hipercub): {time_gs:.4f}s\")\n"
      ],
      "metadata": {
        "colab": {
          "base_uri": "https://localhost:8080/"
        },
        "id": "uaTlxKES9Z3f",
        "outputId": "7922436b-d3d4-4895-e1f6-49645ebfe857"
      },
      "execution_count": null,
      "outputs": [
        {
          "output_type": "stream",
          "name": "stdout",
          "text": [
            "Jacobi Paralel (Hipercub): 0.1884s\n",
            "Gauss-Seidel Paralel (Hipercub): 0.0590s\n"
          ]
        }
      ]
    }
  ]
}