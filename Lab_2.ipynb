{
  "nbformat": 4,
  "nbformat_minor": 0,
  "metadata": {
    "colab": {
      "provenance": [],
      "include_colab_link": true
    },
    "kernelspec": {
      "name": "python3",
      "display_name": "Python 3"
    },
    "language_info": {
      "name": "python"
    }
  },
  "cells": [
    {
      "cell_type": "markdown",
      "metadata": {
        "id": "view-in-github",
        "colab_type": "text"
      },
      "source": [
        "<a href=\"https://colab.research.google.com/github/GrigoreGeorgeAlexandru/Colab-projects/blob/main/Lab_2.ipynb\" target=\"_parent\"><img src=\"https://colab.research.google.com/assets/colab-badge.svg\" alt=\"Open In Colab\"/></a>"
      ]
    },
    {
      "cell_type": "markdown",
      "source": [
        "# Problema canibalilor și misionarilor"
      ],
      "metadata": {
        "id": "Fh8ZrWzvhjP9"
      }
    },
    {
      "cell_type": "markdown",
      "source": [
        "Se consideră că avem un număr egal de canibali și misionari (notat cu N) pe malul unui râu. Ei vor să treacă râul cu ajutorul unei bărci cu M locuri. În barcă pot fi mai puțin de M persoane, dar barca nu se conduce singură (pentru a ajunge de pe un mal pe altul trebuie să fie în ea minim un om). Dacă pe unul dintre maluri sau în barcă numărul de canibali este mai mare strict decât numărul de misionari, atunci canibalii o să îi mănânce pe misionari. Permutările între mal și barcă au loc instantaneu, așadar nu ne punem problema ordinii în care coboară sau urcă oamenii în barcă.\n",
        "Care este o secvență de acțiuni în urma căreia toți oamenii să ajungă pe celălalt mal fără ca misionarii să ajungă prânz pentru canibali?\n",
        "\n",
        "*Problema clasica este cu N=3 (canibali / misionari) și M=2 (locuri în barcă).*"
      ],
      "metadata": {
        "id": "jKH7v_oYhiFJ"
      }
    },
    {
      "cell_type": "markdown",
      "source": [
        "# Soluții"
      ],
      "metadata": {
        "id": "zgovhj1adTjq"
      }
    },
    {
      "cell_type": "markdown",
      "source": [
        "## 1. Clasa State\n",
        "\n",
        "---"
      ],
      "metadata": {
        "id": "CTlo8w1F0iVk"
      }
    },
    {
      "cell_type": "markdown",
      "source": [
        "Definiți o clasă State, care va reprezenta o stare a jocului, cu câmpurile:\n",
        "* canibali pe malul stâng;\n",
        "* misionari pe malul stâng;\n",
        "* poziția bărcii.\n",
        "\n",
        "Citiți dintr-un **_fișier_** valorile parametrilor N și M și păstrați-le ca elemente statice în clasă. Puteți pune valori default în clasă N=3 și M=2.\n",
        "\n",
        "Implementați următoarele metode:\n",
        "* constructorul clasei -> *\\_\\_init__*\n",
        "* egalitatea -> *\\_\\_eq__*\n",
        "* transformarea în obiect de tip string a informației nodului curent -> *\\_\\_str__*\n",
        "* transformarea în obiect de tip string a informației elementelor dintr-o listă -> *\\_\\_repr__*\n",
        "\n",
        "_Observații:_\n",
        "* Informația nodului curent va fi afișată de forma:\n",
        "```\n",
        "Stare curentă:\n",
        "3 misionari, 3 canibali  | 0 misionari, 0 canibali\n",
        "Barca se află pe malul stâng\n",
        "```\n",
        "* Informația elementului dintr-o listă va fi afișată de forma:\n",
        "```\n",
        "(3, 3, 0)\n",
        "```\n",
        "Unde tuplul reprezintă (<număr misionari pe malul stâng>, <număr canibali pe malul stâng>, <malul pe care se află barca>)"
      ],
      "metadata": {
        "id": "uQzJZUvF_ur4"
      }
    },
    {
      "cell_type": "code",
      "execution_count": null,
      "metadata": {
        "id": "52hgbkDk5FAI"
      },
      "outputs": [],
      "source": [
        "class State:\n",
        "  N = 3\n",
        "  M = 2\n",
        "\n",
        "  def __init__(self, misionari = N, canibali = N, barca = -1):\n",
        "    ''' Constructorul clasei State.\n",
        "\n",
        "    :param misionari: cati misionari sunt pe malul stang\n",
        "    :param canibali: cati canibali sunt pe malul stang\n",
        "    :param barca: -1 daca se afla pe malul stang, 1 altfel\n",
        "    '''\n",
        "    self.misionari = misionari\n",
        "    self.canibali = canibali\n",
        "    self.barca = barca\n",
        "\n",
        "  def __eq__(self, cls):\n",
        "     return self.barca == cls.barca and \\\n",
        "     self.misionari == cls.misionari and self.canibali == cls.canibali\n",
        "\n",
        "  def __str__(self):\n",
        "    return 'Stare curenta:\\n' + \\\n",
        "    f'{str(self.misionari)} misionari, ' + \\\n",
        "    f'{str(self.canibali)} canibali | ' + \\\n",
        "    f'{str(self.N - self.misionari)} misionari, ' + \\\n",
        "    f'{str(self.N - self.canibali)} canibali \\n' + \\\n",
        "    f'Barca se afla pe malul {\"stang\" if self.barca == -1 else \"drept\"}\\n'\n",
        "\n",
        "  def __repr__(self):\n",
        "    return ('({} {} {})').format(self.misionari, self.canibali, self.barca)\n",
        "\n",
        "  def succesori(self):\n",
        "    ''' Calculeaza lista succesorilor directi ai starii curente.\n",
        "\n",
        "    :return: lista starilor admisibile\n",
        "    '''\n",
        "    succesori = []\n",
        "\n",
        "    # Calculez cati misionari si canibali sunt pe malul cu barca\n",
        "    misionari = self.misionari if self.barca == -1 else self.N - self.misionari\n",
        "    canibali = self.canibali if self.barca == -1 else self.N - self.canibali\n",
        "\n",
        "    for locuri in range(1, self.M + 1):\n",
        "      for locuriMisionari in range(misionari + 1):\n",
        "        if locuriMisionari > locuri:\n",
        "          continue\n",
        "\n",
        "        # Verific sa existe cati canibali vreau sa plimb\n",
        "        locuriCanibali = locuri - locuriMisionari\n",
        "        if locuriCanibali < 0 or locuriCanibali > canibali:\n",
        "          continue\n",
        "\n",
        "        # Verific sa nu fie mancati misionari in barca\n",
        "        if locuriCanibali > locuriMisionari and locuriMisionari > 0:\n",
        "          continue\n",
        "\n",
        "        # Verific sa nu fie mancati misionari pe malul de plecare\n",
        "        if canibali - locuriCanibali > misionari - locuriMisionari and \\\n",
        "        misionari - locuriMisionari > 0:\n",
        "          continue\n",
        "\n",
        "        # Verific sa nu fie mancati misionari pe malul de sosire\n",
        "        if (self.N - canibali) + locuriCanibali > \\\n",
        "        (self.N - misionari) + locuriMisionari and \\\n",
        "        (self.N - misionari) + locuriMisionari > 0:\n",
        "          continue\n",
        "\n",
        "        # Trucuri de notatie:\n",
        "        stareCurenta = State(\n",
        "            self.misionari + self.barca * locuriMisionari,\n",
        "            self.canibali + self.barca * locuriCanibali,\n",
        "            (-1) * self.barca)\n",
        "\n",
        "        succesori.append(stareCurenta)\n",
        "\n",
        "    return succesori"
      ]
    },
    {
      "cell_type": "code",
      "source": [
        "f = open(\"input.txt\", \"r\")\n",
        "State.N = int(f.readline())\n",
        "State.M = int(f.readline())\n",
        "f.close()"
      ],
      "metadata": {
        "id": "ACaDcoF826Es"
      },
      "execution_count": null,
      "outputs": []
    },
    {
      "cell_type": "code",
      "source": [
        "state = State(State.N, State.N, -1)\n",
        "print(state)"
      ],
      "metadata": {
        "colab": {
          "base_uri": "https://localhost:8080/"
        },
        "id": "ZeJ6C-cg8lXa",
        "outputId": "5246c366-15fb-4dcc-ccaf-638aba453947"
      },
      "execution_count": null,
      "outputs": [
        {
          "output_type": "stream",
          "name": "stdout",
          "text": [
            "Stare curenta:\n",
            "3 misionari, 3 canibali | 0 misionari, 0 canibali \n",
            "Barca se afla pe malul stang\n",
            "\n"
          ]
        }
      ]
    },
    {
      "cell_type": "markdown",
      "source": [
        "## 2. Clasa Graph\n",
        "\n",
        "---"
      ],
      "metadata": {
        "id": "SEsBR-6g5Q9T"
      }
    },
    {
      "cell_type": "markdown",
      "source": [
        "Copiați clasa Node.\n",
        "\n",
        "Modificați următoarele funcții din clasa Graph pe problema curentă:\n",
        "* scop - verifică dacă toți oamenii au ajuns pe malul drept\n",
        "* succesori - generează lista de succesori valizi ai stării curente\n",
        "\n",
        "_Sugestie:_ Pentru a scrie mai puțin, puteți calcula succesorii unei stări în clasa State și apela acea funcție din clasa Graph. Nu uitați să verificați că succesorul nu a mai fost vizitat în drumul dinspre rădăcină!"
      ],
      "metadata": {
        "id": "o_ahQBHyAa4Z"
      }
    },
    {
      "cell_type": "code",
      "source": [
        "import copy\n",
        "\n",
        "\n",
        "class Node:\n",
        "  def __init__(self, informatie, parinte = None, succesori = []):\n",
        "    ''' Constructorul clasei Node.\n",
        "\n",
        "    :param informatie: informatia nodului curent\n",
        "    :param parinte: pointer catre parintele nodului curent\n",
        "    :param succesori: pointer catre lista succesorilor nodului curent\n",
        "    '''\n",
        "    self.informatie = informatie\n",
        "    self.parinte = parinte\n",
        "    self.succesori = copy.deepcopy(succesori)\n",
        "\n",
        "  def __str__(self):\n",
        "    return str(self.informatie)\n",
        "\n",
        "  def __repr__(self):\n",
        "    return ('({} {} {})').format(self.informatie.misionari,\n",
        "                                 self.informatie.canibali,\n",
        "                                 self.informatie.barca)\n",
        "\n",
        "  def __eq__(self, cls):\n",
        "     return self.informatie == cls.informatie\n",
        "\n",
        "  def vizitat(self):\n",
        "    ''' Returneaza True daca nodul curent a fost deja vizitat, False altfel. '''\n",
        "    return len([1 for nod in self.drumRadacina() if nod == self]) > 1 or \\\n",
        "    self.informatie in [nod.informatie for nod in self.parinte.succesori]\n",
        "\n",
        "  def drumRadacina(self):\n",
        "    ''' Calculeaza lista nodurilor de la radacina pana la nodul curent. '''\n",
        "    if self.parinte is None:\n",
        "      return [self]\n",
        "    return self.parinte.drumRadacina() + [self]\n",
        "\n",
        "  def printDrumRadacina(self):\n",
        "    ''' Returneaza un string cu formatarea drumului de la radacina pana la nodul\n",
        "    curent.\n",
        "    '''\n",
        "    drum = self.drumRadacina()\n",
        "    afisare = str(drum[0])\n",
        "\n",
        "    for i in range(1, len(drum)):\n",
        "      state = drum[i - 1].informatie\n",
        "      stateCurent = drum[i].informatie\n",
        "\n",
        "      afisare += f'\\nBarca a plecat de pe malul ' + \\\n",
        "      f'{\"stang\" if state.barca == -1 else \"drept\"} ' + \\\n",
        "      f'cu {abs(state.misionari - stateCurent.misionari)} misionari ' + \\\n",
        "      f'si {abs(state.canibali - stateCurent.canibali)} canibali\\n\\n' + \\\n",
        "      str(stateCurent)\n",
        "\n",
        "    return afisare"
      ],
      "metadata": {
        "id": "O_VXqIOWEPAf"
      },
      "execution_count": null,
      "outputs": []
    },
    {
      "cell_type": "code",
      "source": [
        "class Graph:\n",
        "  def __init__(self):\n",
        "    ''' Constructorul clasei Graf. '''\n",
        "    self.nodStart = Node(State())\n",
        "    self.noduriScop = [State(0, 0, 1)]\n",
        "\n",
        "  def scop(self, informatieNod):\n",
        "    ''' Primeste o informatie de tip Nod si verifica daca e scop.\n",
        "\n",
        "    :param informatieNod: informatia nodului de cautat\n",
        "    :return: True daca nodul e scop, False altfel\n",
        "    '''\n",
        "    return informatieNod in self.noduriScop\n",
        "\n",
        "  def succesori(self, nod):\n",
        "    ''' Primeste un nod al arborelui de parcurgere si returnează lista\n",
        "    succesorilor directi ai nodului care nu au fost vizitati pe ramura curenta.\n",
        "\n",
        "    :param nod: un nod oarecare\n",
        "    :return: lista succesorilor valizi ai nodului\n",
        "    '''\n",
        "    succesori = nod.informatie.succesori()\n",
        "\n",
        "    for stare in succesori:\n",
        "      nodCurent = Node(stare, nod)\n",
        "      if nodCurent.vizitat():\n",
        "        continue\n",
        "\n",
        "      nod.succesori.append(nodCurent)\n",
        "\n",
        "    return nod.succesori"
      ],
      "metadata": {
        "id": "mdt2XyxuDODT"
      },
      "execution_count": null,
      "outputs": []
    },
    {
      "cell_type": "code",
      "source": [
        "graf = Graph()\n",
        "print(graf.nodStart)"
      ],
      "metadata": {
        "colab": {
          "base_uri": "https://localhost:8080/"
        },
        "id": "NXhD9xQ0Mhtk",
        "outputId": "f8539cde-f85d-4db8-8554-60b6ee55d5fe"
      },
      "execution_count": null,
      "outputs": [
        {
          "output_type": "stream",
          "name": "stdout",
          "text": [
            "Stare curenta:\n",
            "3 misionari, 3 canibali | 0 misionari, 0 canibali \n",
            "Barca se afla pe malul stang\n",
            "\n"
          ]
        }
      ]
    },
    {
      "cell_type": "markdown",
      "source": [
        "## 3. Clasa Node\n",
        "\n",
        "---"
      ],
      "metadata": {
        "id": "pUzV0Wdx9OKJ"
      }
    },
    {
      "cell_type": "markdown",
      "source": [
        "Creați o funcție *printDrumRadacina()* care returnează drumul până la nodul curent în formatul de mai jos. Rulați problema cu BFS / DFS pentru N=2, M=3 și NSOL=2 (numărul de soluții cerute) și afișați într-un fișier cu calea dată de la tastatură drumul de la rădăcină până la nodul curent (în formatul precizat anterior) și timpul de rulare al algoritmului:\n",
        "\n",
        "```\n",
        "Stare curentă:\n",
        "3 misionari, 3 canibali  | 0 misionari, 0 canibali\n",
        "Barca se află pe malul stâng\n",
        "\n",
        "Barca s-a deplasat de pe malul stâng pe malul drept cu 0 misionari și 2 canibali.\n",
        "\n",
        "Stare curentă:\n",
        "3 misionari, 1 canibali  | 0 misionari, 2 canibali\n",
        "Barca se află pe malul drept\n",
        "\n",
        "...\n",
        "\n",
        "Stare curentă:\n",
        "0 misionari, 0 canibali  | 3 misionari, 3 canibali\n",
        "Barca se află pe malul drept\n",
        "\n",
        "Timpul de rulare: 0.00021839141845703125 secunde.\n",
        "```\n"
      ],
      "metadata": {
        "id": "rmHVBXJZDQ8x"
      }
    },
    {
      "cell_type": "code",
      "source": [
        "def bfs(graf, n = 2):\n",
        "  ''' Implementarea tehnicii de cautare in latime (BFS) cu n solutii.\n",
        "\n",
        "  :param graf: graful pe care rulam algoritmul\n",
        "  :param n: numarul de solutii cautate\n",
        "  :return: primele n solutii identificate\n",
        "  '''\n",
        "  coada = [graf.nodStart]\n",
        "  while len(coada) > 0:\n",
        "    nodCurent = coada.pop(0)\n",
        "\n",
        "    if graf.scop(nodCurent.informatie):\n",
        "      return nodCurent\n",
        "\n",
        "    succesori = graf.succesori(nodCurent)\n",
        "    coada += copy.deepcopy(succesori)\n",
        "\n",
        "  return None"
      ],
      "metadata": {
        "id": "Pw_uDR3z6DOa"
      },
      "execution_count": null,
      "outputs": []
    },
    {
      "cell_type": "code",
      "source": [
        "graf = Graph()\n",
        "bfs(graf)"
      ],
      "metadata": {
        "id": "ikppX9-2MZRw",
        "colab": {
          "base_uri": "https://localhost:8080/"
        },
        "outputId": "ee58432f-d83e-438b-b895-00f30c3641b4"
      },
      "execution_count": null,
      "outputs": [
        {
          "output_type": "execute_result",
          "data": {
            "text/plain": [
              "(0 0 1)"
            ]
          },
          "metadata": {},
          "execution_count": 91
        }
      ]
    },
    {
      "cell_type": "code",
      "source": [
        "import time\n",
        "\n",
        "start_time = time.time()\n",
        "graf = Graph()\n",
        "nodFinal = bfs(graf)\n",
        "end_time = time.time()\n",
        "\n",
        "drum = nodFinal.printDrumRadacina()\n",
        "output = input(\"Calea fișierului în care vom scrie soluția: \")\n",
        "f = open(output, \"w\")\n",
        "\n",
        "if drum:\n",
        "  f.write(drum)\n",
        "else:\n",
        "  f.write(\"Nu exista solutie.\")\n",
        "\n",
        "f.write(f\"\\nTimpul de rulare: {end_time - start_time} secunde.\")\n",
        "f.close()"
      ],
      "metadata": {
        "colab": {
          "base_uri": "https://localhost:8080/"
        },
        "id": "D6MmMy1r36LO",
        "outputId": "3434da7e-3e51-466a-f66f-204f0d7361f9"
      },
      "execution_count": null,
      "outputs": [
        {
          "name": "stdout",
          "output_type": "stream",
          "text": [
            "Calea fișierului în care vom scrie soluția: output.txt\n"
          ]
        }
      ]
    },
    {
      "cell_type": "markdown",
      "source": [
        "## 4. Problemă alternativă\n",
        "\n",
        "---"
      ],
      "metadata": {
        "id": "9ofkJ7RpBgaQ"
      }
    },
    {
      "cell_type": "markdown",
      "source": [
        "Modificați problema astfel încât în starea inițială avem un număr NC de misionari pe malul stâng și un alt număr NM de canibali pe malul drept, iar toată lumea își dorește să traverseze râul.\n",
        "\n",
        "Canibalii pot mânca misionarii doar pe malul drept sau în barcă (malul stâng este foarte aproape de tabăra misionarilor în care au fost plasate mai mult de NC gărzi care se asigură că totul este în regulă).\n",
        "\n",
        "Barca se află inițial pe malul stâng (al misionarilor) întrucât aceștia sunt singurii care știu să o conducă.\n",
        "\n",
        "**Atenție:** asta înseamnă că în barcă trebuie să fie mereu minim un misionar."
      ],
      "metadata": {
        "id": "m22ELUFfEPnx"
      }
    },
    {
      "cell_type": "code",
      "source": [],
      "metadata": {
        "id": "o06im1ZLG682"
      },
      "execution_count": null,
      "outputs": []
    }
  ]
}