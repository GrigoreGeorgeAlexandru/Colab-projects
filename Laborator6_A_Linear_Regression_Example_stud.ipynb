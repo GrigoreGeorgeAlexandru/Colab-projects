{
  "cells": [
    {
      "cell_type": "markdown",
      "metadata": {
        "id": "view-in-github",
        "colab_type": "text"
      },
      "source": [
        "<a href=\"https://colab.research.google.com/github/GrigoreGeorgeAlexandru/Colab-projects/blob/main/Laborator6_A_Linear_Regression_Example_stud.ipynb\" target=\"_parent\"><img src=\"https://colab.research.google.com/assets/colab-badge.svg\" alt=\"Open In Colab\"/></a>"
      ]
    },
    {
      "cell_type": "code",
      "source": [
        "!pip install pyspark\n"
      ],
      "metadata": {
        "colab": {
          "base_uri": "https://localhost:8080/"
        },
        "id": "SQs2kH6UTcvt",
        "outputId": "ddebde77-9d89-4874-a7ef-5887f29dab39"
      },
      "execution_count": null,
      "outputs": [
        {
          "output_type": "stream",
          "name": "stdout",
          "text": [
            "Collecting pyspark\n",
            "  Downloading pyspark-3.5.1.tar.gz (317.0 MB)\n",
            "\u001b[2K     \u001b[90m━━━━━━━━━━━━━━━━━━━━━━━━━━━━━━━━━━━━━━━━\u001b[0m \u001b[32m317.0/317.0 MB\u001b[0m \u001b[31m3.4 MB/s\u001b[0m eta \u001b[36m0:00:00\u001b[0m\n",
            "\u001b[?25h  Preparing metadata (setup.py) ... \u001b[?25l\u001b[?25hdone\n",
            "Requirement already satisfied: py4j==0.10.9.7 in /usr/local/lib/python3.10/dist-packages (from pyspark) (0.10.9.7)\n",
            "Building wheels for collected packages: pyspark\n",
            "  Building wheel for pyspark (setup.py) ... \u001b[?25l\u001b[?25hdone\n",
            "  Created wheel for pyspark: filename=pyspark-3.5.1-py2.py3-none-any.whl size=317488491 sha256=0e570a2c1c12e417b9d1e4188b3baba32a03d7c19ba771d0465fbfef7a874ed8\n",
            "  Stored in directory: /root/.cache/pip/wheels/80/1d/60/2c256ed38dddce2fdd93be545214a63e02fbd8d74fb0b7f3a6\n",
            "Successfully built pyspark\n",
            "Installing collected packages: pyspark\n",
            "Successfully installed pyspark-3.5.1\n"
          ]
        }
      ]
    },
    {
      "cell_type": "markdown",
      "metadata": {
        "id": "gfWbjgGBTZMF"
      },
      "source": [
        "# Exemplu regresie liniară\n",
        "\n",
        "Urmărim pașii exemplelor din documentația oficială, cu scopul de a înțelege și apoi aplica metodele pentru rezolvarea altor probleme.\n",
        "<br>\n",
        "https://spark.apache.org/docs/latest/ml-classification-regression.html#linear-regression\n",
        "<br>\n",
        "https://spark.apache.org/docs/latest/api/java/index.html?org/apache/spark/ml/regression/LinearRegression.html"
      ]
    },
    {
      "cell_type": "code",
      "source": [
        "from google.colab import drive\n",
        "drive.mount('/content/drive')"
      ],
      "metadata": {
        "colab": {
          "base_uri": "https://localhost:8080/"
        },
        "id": "tboNelhWThiC",
        "outputId": "eab131ac-f031-4d7a-ef72-a5cd4d6d7a1c"
      },
      "execution_count": null,
      "outputs": [
        {
          "output_type": "stream",
          "name": "stdout",
          "text": [
            "Mounted at /content/drive\n"
          ]
        }
      ]
    },
    {
      "cell_type": "code",
      "execution_count": null,
      "metadata": {
        "id": "qN1YP4myTZMG"
      },
      "outputs": [],
      "source": [
        "from pyspark.sql import SparkSession"
      ]
    },
    {
      "cell_type": "code",
      "execution_count": null,
      "metadata": {
        "id": "X7A4RnFmTZMH"
      },
      "outputs": [],
      "source": [
        "spark = SparkSession.builder.appName('lr_example').getOrCreate()"
      ]
    },
    {
      "cell_type": "code",
      "execution_count": null,
      "metadata": {
        "id": "aHDPKovWTZMH"
      },
      "outputs": [],
      "source": [
        "from pyspark.ml.regression import LinearRegression"
      ]
    },
    {
      "cell_type": "code",
      "execution_count": null,
      "metadata": {
        "id": "OA92L_UhTZMH"
      },
      "outputs": [],
      "source": [
        "# Încărcarea datelor de antrenare\n",
        "training = spark.read.format(\"libsvm\").option(\"numFeatures\",\"10\").load(\"/content/drive/MyDrive/Data/sample_linear_regression_data.txt\")"
      ]
    },
    {
      "cell_type": "markdown",
      "metadata": {
        "id": "3Ad5STwuTZMH"
      },
      "source": [
        "Observatie: \"libsvm\" este un format de date, structurat astfel:\n",
        "`<label> <index1>:<value1> <index2>:<value2> `\n",
        "<br>\n",
        "Observatie: Dataset-uri libsvm: https://www.csie.ntu.edu.tw/~cjlin/libsvmtools/datasets/"
      ]
    },
    {
      "cell_type": "code",
      "execution_count": null,
      "metadata": {
        "jupyter": {
          "outputs_hidden": false
        },
        "colab": {
          "base_uri": "https://localhost:8080/"
        },
        "id": "n_tcyR1ITZMH",
        "outputId": "3ce6dd1a-758f-438c-b0f9-35897a327bd4"
      },
      "outputs": [
        {
          "output_type": "stream",
          "name": "stdout",
          "text": [
            "+-------------------+----------------------------------------------------------------------------------------------------------------------------------------------------------------------------------------------------------------------------------------+\n",
            "|label              |features                                                                                                                                                                                                                                |\n",
            "+-------------------+----------------------------------------------------------------------------------------------------------------------------------------------------------------------------------------------------------------------------------------+\n",
            "|-9.490009878824548 |(10,[0,1,2,3,4,5,6,7,8,9],[0.4551273600657362,0.36644694351969087,-0.38256108933468047,-0.4458430198517267,0.33109790358914726,0.8067445293443565,-0.2624341731773887,-0.44850386111659524,-0.07269284838169332,0.5658035575800715])    |\n",
            "|0.2577820163584905 |(10,[0,1,2,3,4,5,6,7,8,9],[0.8386555657374337,-0.1270180511534269,0.499812362510895,-0.22686625128130267,-0.6452430441812433,0.18869982177936828,-0.5804648622673358,0.651931743775642,-0.6555641246242951,0.17485476357259122])        |\n",
            "|-4.438869807456516 |(10,[0,1,2,3,4,5,6,7,8,9],[0.5025608135349202,0.14208069682973434,0.16004976900412138,0.505019897181302,-0.9371635223468384,-0.2841601610457427,0.6355938616712786,-0.1646249064941625,0.9480713629917628,0.42681251564645817])         |\n",
            "|-19.782762789614537|(10,[0,1,2,3,4,5,6,7,8,9],[-0.0388509668871313,-0.4166870051763918,0.8997202693189332,0.6409836467726933,0.273289095712564,-0.26175701211620517,-0.2794902492677298,-0.1306778297187794,-0.08536581111046115,-0.05462315824828923])     |\n",
            "|-7.966593841555266 |(10,[0,1,2,3,4,5,6,7,8,9],[-0.06195495876886281,0.6546448480299902,-0.6979368909424835,0.6677324708883314,-0.07938725467767771,-0.43885601665437957,-0.608071585153688,-0.6414531182501653,0.7313735926547045,-0.026818676347611925])   |\n",
            "|-7.896274316726144 |(10,[0,1,2,3,4,5,6,7,8,9],[-0.15805658673794265,0.26573958270655806,0.3997172901343442,-0.3693430998846541,0.14324061105995334,-0.25797542063247825,0.7436291919296774,0.6114618853239959,0.2324273700703574,-0.25128128782199144])     |\n",
            "|-8.464803554195287 |(10,[0,1,2,3,4,5,6,7,8,9],[0.39449745853945895,0.817229160415142,-0.6077058562362969,0.6182496334554788,0.2558665508269453,-0.07320145794330979,-0.38884168866510227,0.07981886851873865,0.27022202891277614,-0.7474843534024693])      |\n",
            "|2.1214592666251364 |(10,[0,1,2,3,4,5,6,7,8,9],[-0.005346215048158909,-0.9453716674280683,-0.9270309666195007,-0.032312290091389695,0.31010676221964206,-0.20846743965751569,0.8803449313707621,-0.23077831216541722,0.29246395759528565,0.5409312755478819])|\n",
            "|1.0720117616524107 |(10,[0,1,2,3,4,5,6,7,8,9],[0.7880855916368177,0.19767407429003536,0.9520689432368168,-0.845829774129496,0.5502413918543512,-0.44235539500246457,0.7984106594591154,-0.2523277127589152,-0.1373808897290778,-0.3353514432305029])        |\n",
            "|-13.772441561702871|(10,[0,1,2,3,4,5,6,7,8,9],[-0.3697050572653644,-0.11452811582755928,-0.807098168238352,0.4903066124307711,-0.6582805242342049,0.6107814398427647,-0.7204208094262783,-0.8141063661170889,-0.9459402662357332,0.09666938346350307])      |\n",
            "|-5.082010756207233 |(10,[0,1,2,3,4,5,6,7,8,9],[-0.43560342773870375,0.9349906440170221,0.8090021580031235,-0.3121157071110545,-0.9718883630945336,0.6191882496201251,0.0429886073795116,0.670311110015402,0.16692329718223786,0.37649213869502973])         |\n",
            "|7.887786536531237  |(10,[0,1,2,3,4,5,6,7,8,9],[0.11276440263810383,-0.7684997525607482,0.1770172737885798,0.7902845707138706,0.2529503304079441,-0.23483801763662826,0.8072501895004851,0.6673992021927047,-0.4796127376677324,0.9244724404994455])         |\n",
            "|14.323146365332388 |(10,[0,1,2,3,4,5,6,7,8,9],[-0.2049276879687938,0.1470694373531216,-0.48366999792166787,0.643491115907358,0.3183669486383729,0.22821350958477082,-0.023605251086149304,-0.2770587742156372,0.47596326458377436,0.7107229819632654])      |\n",
            "|-20.057482615789212|(10,[0,1,2,3,4,5,6,7,8,9],[-0.3205057828114841,0.51605972926996,0.45215640988181516,0.01712446974606241,0.5508198371849293,-0.2478254241316491,0.7256483175955235,0.39418662792516,-0.6797384914236382,0.6001217520150142])             |\n",
            "|-0.8995693247765151|(10,[0,1,2,3,4,5,6,7,8,9],[0.4508991072414843,0.589749448443134,0.6464818311502738,0.7005669004769028,0.9699584106930381,-0.7417466269908464,0.22818964839784495,0.08574936236270037,-0.6945765138377225,0.06915201979238828])          |\n",
            "|-19.16829262296376 |(10,[0,1,2,3,4,5,6,7,8,9],[0.09798746565879424,-0.34288007110901964,0.440249350802451,-0.22440768392359534,-0.9695067570891225,-0.7942032659310758,-0.792286205517398,-0.6535487038528798,0.7952676470618951,-0.1622831617066689])      |\n",
            "|5.601801561245534  |(10,[0,1,2,3,4,5,6,7,8,9],[0.6949189734965766,-0.32697929564739403,-0.15359663581829275,-0.8951865090520432,0.2057889391931318,-0.6676656789571533,-0.03553655732400762,0.14550349954571096,0.034600542078191854,0.4223352065067103])   |\n",
            "|-3.2256352187273354|(10,[0,1,2,3,4,5,6,7,8,9],[0.35278245969741096,0.7022211035026023,0.5686638754605697,-0.4202155290448111,-0.26102723928249216,0.010688215941416779,-0.4311544807877927,0.9500151672991208,0.14380635780710693,-0.7549354840975826])     |\n",
            "|1.5299675726687754 |(10,[0,1,2,3,4,5,6,7,8,9],[-0.13079299081883855,0.0983382230287082,0.15347083875928424,0.45507300685816965,0.1921083467305864,0.6361110540492223,0.7675261182370992,-0.2543488202081907,0.2927051050236915,0.680182444769418])          |\n",
            "|-0.250102447941961 |(10,[0,1,2,3,4,5,6,7,8,9],[-0.8062832278617296,0.8266289890474885,0.22684501241708888,0.1726291966578266,-0.6778773666126594,0.9993906921393696,0.1789490173139363,0.5584053824232391,0.03495894704368174,-0.8505720014852347])         |\n",
            "+-------------------+----------------------------------------------------------------------------------------------------------------------------------------------------------------------------------------------------------------------------------------+\n",
            "only showing top 20 rows\n",
            "\n"
          ]
        }
      ],
      "source": [
        "training.show(truncate=False)"
      ]
    },
    {
      "cell_type": "markdown",
      "metadata": {
        "id": "eRYXLB1VTZMH"
      },
      "source": [
        "Acesta este formatul așteptat de Spark, alcătuit din 2 coloane (label, features).\n",
        "\n",
        "Coloana \"label\" trebuie să aibă o valoare numerică, fie o valoare numerică de regresie, fie o valoare numerică ce corespunde unui grup dintr-o clasificare.\n",
        "\n",
        "Coloana \"features\" conține un vector având valorile caracteristicilor corespunzătoare acelui rând. De obicei, se ajunge la combinarea diferitelor coloane cu caracteristici într-o singură coloană \"features\" cu ajutorul transformărilor."
      ]
    },
    {
      "cell_type": "code",
      "execution_count": null,
      "metadata": {
        "id": "C8pQGgR0TZMH"
      },
      "outputs": [],
      "source": [
        "# Acestea sunt valorile implicite pentru featuresCol, labelCol, predictionCol\n",
        "lr = LinearRegression(featuresCol='features', labelCol='label', predictionCol='prediction')\n",
        "\n",
        "# Putem utiliza și alți parametri - de exemplu,\n",
        "#pentru regularizare (vezi https://static1.squarespace.com/static/5ff2adbe3fe4fe33db902812/t/6062a083acbfe82c7195b27d/1617076404560/ISLR%2BSeventh%2BPrinting.pdf)"
      ]
    },
    {
      "cell_type": "code",
      "execution_count": null,
      "metadata": {
        "id": "cr1TPKIjTZMH"
      },
      "outputs": [],
      "source": [
        "# Antrenați modelul cu datele \"training\"\n",
        "lrModel = lr.fit(training)"
      ]
    },
    {
      "cell_type": "code",
      "execution_count": null,
      "metadata": {
        "jupyter": {
          "outputs_hidden": false
        },
        "colab": {
          "base_uri": "https://localhost:8080/"
        },
        "id": "l3vHrGmlTZMI",
        "outputId": "fff499b8-897b-456f-8846-97c5a82f70ed"
      },
      "outputs": [
        {
          "output_type": "stream",
          "name": "stdout",
          "text": [
            "Coefficients: [0.0073350710225801715,0.8313757584337543,-0.8095307954684084,2.441191686884721,0.5191713795290002,1.1534591903547016,-0.2989124112808717,-0.5128514186201779,-0.619712827067017,0.695615180432293]\n",
            "\n",
            "\n",
            "Intercept:0.14228558260358093\n"
          ]
        }
      ],
      "source": [
        "# Afișați coeficienții și intercepția pentru regresia liniară\n",
        "print(\"Coefficients: {}\".format(str(lrModel.coefficients)))\n",
        "print('\\n')\n",
        "print(\"Intercept:{}\".format(str(lrModel.intercept)))"
      ]
    },
    {
      "cell_type": "markdown",
      "metadata": {
        "id": "QHseHoesTZMI"
      },
      "source": [
        "Observație: Există un atribut (`summary`) ce conține mai multe informații."
      ]
    },
    {
      "cell_type": "code",
      "execution_count": null,
      "metadata": {
        "id": "rdO5DxuhTZMI"
      },
      "outputs": [],
      "source": [
        "# Sumarizarea modelului pentru setul de training și afișarea unor metrici\n",
        "trainingSummary = lrModel.summary"
      ]
    },
    {
      "cell_type": "markdown",
      "metadata": {
        "id": "0c1DQ2h4TZMI"
      },
      "source": [
        "Analizați documentația și afișați câteva exemple de informații (ce reprezintă fiecare?):"
      ]
    },
    {
      "cell_type": "code",
      "execution_count": null,
      "metadata": {
        "jupyter": {
          "outputs_hidden": false
        },
        "colab": {
          "base_uri": "https://localhost:8080/"
        },
        "id": "xFe60vYSTZMI",
        "outputId": "28901fe9-4c5d-4a08-850c-83d042703e02"
      },
      "outputs": [
        {
          "output_type": "stream",
          "name": "stdout",
          "text": [
            "+-------------------+\n",
            "|          residuals|\n",
            "+-------------------+\n",
            "|-11.011130022096554|\n",
            "| 0.9236590911176535|\n",
            "|-4.5957401897776675|\n",
            "|  -20.4201774575836|\n",
            "|-10.339160314788181|\n",
            "|-5.9552091439610555|\n",
            "|-10.726906349283922|\n",
            "| 2.1228071931912336|\n",
            "|  4.077122222293811|\n",
            "|-17.316168071241652|\n",
            "| -4.593044343959059|\n",
            "|  6.380476690746936|\n",
            "| 11.320566035059846|\n",
            "|-20.721971774534094|\n",
            "| -2.736692773777401|\n",
            "| -16.66886934252847|\n",
            "|  8.242186378876315|\n",
            "|-1.3723486332690233|\n",
            "|-0.7060332131264666|\n",
            "|-1.1591135969994064|\n",
            "+-------------------+\n",
            "only showing top 20 rows\n",
            "\n",
            "RMSE: 10.16309157133015\n",
            "r2: 0.027839179518600154\n"
          ]
        }
      ],
      "source": [
        "trainingSummary.residuals.show()\n",
        "print(\"RMSE: {}\".format(trainingSummary.rootMeanSquaredError))\n",
        "print(\"r2: {}\".format(trainingSummary.r2))"
      ]
    },
    {
      "cell_type": "markdown",
      "metadata": {
        "id": "EVwkdM8bTZMI"
      },
      "source": [
        "## Diviziuni Train/Test\n",
        "\n",
        "Până în acest punct nu am separat setul de date într-un subset de training și unul de test, ci am antrenat pe toate datele - lucru pe care, în general, dorim să îl evităm.\n",
        "De reținut: nu se poate face o evaluare corectă a unui model analizând performanța lui pe datele pe care a fost antrenat!\n",
        "\n",
        "În Spark DataFrame există metoda `randomSplit` pentru divizarea aleatoare a datelor. Utilizăm această metodă:"
      ]
    },
    {
      "cell_type": "code",
      "execution_count": null,
      "metadata": {
        "id": "OoiDUHRkTZMI"
      },
      "outputs": [],
      "source": [
        "all_data = spark.read.format(\"libsvm\").option(\"numFeatures\",\"10\").load(\"/content/drive/MyDrive/Data/sample_linear_regression_data.txt\")"
      ]
    },
    {
      "cell_type": "code",
      "execution_count": null,
      "metadata": {
        "jupyter": {
          "outputs_hidden": false
        },
        "id": "CdD5zFR3TZMI"
      },
      "outputs": [],
      "source": [
        "# Procentele de divizare pentru seturile de training/test sunt transmise ca listă.\n",
        "# În general, sunt utilizate procentele 70%/30% sau 60%/40%, în funcție de volumul de date disponibil și de cât de echilibrate sunt acestea.\n",
        "train_data,test_data = all_data.randomSplit([0.7,0.3])"
      ]
    },
    {
      "cell_type": "code",
      "execution_count": null,
      "metadata": {
        "jupyter": {
          "outputs_hidden": false
        },
        "colab": {
          "base_uri": "https://localhost:8080/"
        },
        "id": "LkAQl01ITZMI",
        "outputId": "b04ca55c-0df6-4489-fc92-73f30ed9145c"
      },
      "outputs": [
        {
          "output_type": "stream",
          "name": "stdout",
          "text": [
            "+-------------------+--------------------+\n",
            "|              label|            features|\n",
            "+-------------------+--------------------+\n",
            "|-28.571478869743427|(10,[0,1,2,3,4,5,...|\n",
            "|-28.046018037776633|(10,[0,1,2,3,4,5,...|\n",
            "|-26.805483428483072|(10,[0,1,2,3,4,5,...|\n",
            "|-23.487440120936512|(10,[0,1,2,3,4,5,...|\n",
            "|-22.949825936196074|(10,[0,1,2,3,4,5,...|\n",
            "|-22.837460416919342|(10,[0,1,2,3,4,5,...|\n",
            "|-21.432387764165806|(10,[0,1,2,3,4,5,...|\n",
            "|-20.057482615789212|(10,[0,1,2,3,4,5,...|\n",
            "|-19.884560774273424|(10,[0,1,2,3,4,5,...|\n",
            "|-19.872991038068406|(10,[0,1,2,3,4,5,...|\n",
            "| -19.66731861537172|(10,[0,1,2,3,4,5,...|\n",
            "| -19.16829262296376|(10,[0,1,2,3,4,5,...|\n",
            "|-18.845922472898582|(10,[0,1,2,3,4,5,...|\n",
            "| -18.27521356600463|(10,[0,1,2,3,4,5,...|\n",
            "|-17.803626188664516|(10,[0,1,2,3,4,5,...|\n",
            "|-17.494200356883344|(10,[0,1,2,3,4,5,...|\n",
            "|-17.428674570939506|(10,[0,1,2,3,4,5,...|\n",
            "|-17.065399625876015|(10,[0,1,2,3,4,5,...|\n",
            "| -16.71909683360509|(10,[0,1,2,3,4,5,...|\n",
            "|-16.692207021311106|(10,[0,1,2,3,4,5,...|\n",
            "+-------------------+--------------------+\n",
            "only showing top 20 rows\n",
            "\n"
          ]
        }
      ],
      "source": [
        "train_data.show()"
      ]
    },
    {
      "cell_type": "code",
      "execution_count": null,
      "metadata": {
        "jupyter": {
          "outputs_hidden": false
        },
        "colab": {
          "base_uri": "https://localhost:8080/"
        },
        "id": "GOJDUIHLTZMJ",
        "outputId": "aa029d85-9360-426b-99ac-bff51039574a"
      },
      "outputs": [
        {
          "output_type": "stream",
          "name": "stdout",
          "text": [
            "+-------------------+--------------------+\n",
            "|              label|            features|\n",
            "+-------------------+--------------------+\n",
            "|-26.736207182601724|(10,[0,1,2,3,4,5,...|\n",
            "| -23.51088409032297|(10,[0,1,2,3,4,5,...|\n",
            "|-20.212077258958672|(10,[0,1,2,3,4,5,...|\n",
            "|-19.782762789614537|(10,[0,1,2,3,4,5,...|\n",
            "|-19.402336030214553|(10,[0,1,2,3,4,5,...|\n",
            "| -17.32672073267595|(10,[0,1,2,3,4,5,...|\n",
            "|-17.026492264209548|(10,[0,1,2,3,4,5,...|\n",
            "| -16.26143027545273|(10,[0,1,2,3,4,5,...|\n",
            "| -15.86200932757056|(10,[0,1,2,3,4,5,...|\n",
            "|-15.056482974542433|(10,[0,1,2,3,4,5,...|\n",
            "|-13.867087895158768|(10,[0,1,2,3,4,5,...|\n",
            "|-13.772441561702871|(10,[0,1,2,3,4,5,...|\n",
            "|-13.039928064104615|(10,[0,1,2,3,4,5,...|\n",
            "| -12.92222310337042|(10,[0,1,2,3,4,5,...|\n",
            "|-12.500773785355054|(10,[0,1,2,3,4,5,...|\n",
            "| -11.87816749996684|(10,[0,1,2,3,4,5,...|\n",
            "|-11.640549677888826|(10,[0,1,2,3,4,5,...|\n",
            "| -10.29566593602992|(10,[0,1,2,3,4,5,...|\n",
            "|-10.041353112580456|(10,[0,1,2,3,4,5,...|\n",
            "| -9.754451457291598|(10,[0,1,2,3,4,5,...|\n",
            "+-------------------+--------------------+\n",
            "only showing top 20 rows\n",
            "\n"
          ]
        }
      ],
      "source": [
        "test_data.show()"
      ]
    },
    {
      "cell_type": "code",
      "execution_count": null,
      "metadata": {
        "id": "HpqFJ4hRTZMJ"
      },
      "outputs": [],
      "source": [
        "##Datele de test, fără etichete\n",
        "unlabeled_data = test_data.select('features')"
      ]
    },
    {
      "cell_type": "code",
      "execution_count": null,
      "metadata": {
        "jupyter": {
          "outputs_hidden": false
        },
        "colab": {
          "base_uri": "https://localhost:8080/"
        },
        "id": "JuAcV2IJTZMJ",
        "outputId": "2ee212ec-ac24-4329-a100-60c1c5440c47"
      },
      "outputs": [
        {
          "output_type": "stream",
          "name": "stdout",
          "text": [
            "+--------------------+\n",
            "|            features|\n",
            "+--------------------+\n",
            "|(10,[0,1,2,3,4,5,...|\n",
            "|(10,[0,1,2,3,4,5,...|\n",
            "|(10,[0,1,2,3,4,5,...|\n",
            "|(10,[0,1,2,3,4,5,...|\n",
            "|(10,[0,1,2,3,4,5,...|\n",
            "|(10,[0,1,2,3,4,5,...|\n",
            "|(10,[0,1,2,3,4,5,...|\n",
            "|(10,[0,1,2,3,4,5,...|\n",
            "|(10,[0,1,2,3,4,5,...|\n",
            "|(10,[0,1,2,3,4,5,...|\n",
            "|(10,[0,1,2,3,4,5,...|\n",
            "|(10,[0,1,2,3,4,5,...|\n",
            "|(10,[0,1,2,3,4,5,...|\n",
            "|(10,[0,1,2,3,4,5,...|\n",
            "|(10,[0,1,2,3,4,5,...|\n",
            "|(10,[0,1,2,3,4,5,...|\n",
            "|(10,[0,1,2,3,4,5,...|\n",
            "|(10,[0,1,2,3,4,5,...|\n",
            "|(10,[0,1,2,3,4,5,...|\n",
            "|(10,[0,1,2,3,4,5,...|\n",
            "+--------------------+\n",
            "only showing top 20 rows\n",
            "\n"
          ]
        }
      ],
      "source": [
        "unlabeled_data.show()"
      ]
    },
    {
      "cell_type": "markdown",
      "metadata": {
        "id": "Zg0GuM-DTZMJ"
      },
      "source": [
        "Vom antrena doar pe baza setului train_data"
      ]
    },
    {
      "cell_type": "code",
      "execution_count": null,
      "metadata": {
        "id": "4gkEqjzxTZMJ"
      },
      "outputs": [],
      "source": [
        "#Antrenăm doar pe train_data\n",
        "correct_model = lr.fit(train_data)"
      ]
    },
    {
      "cell_type": "markdown",
      "metadata": {
        "id": "z_RGLmm_TZMJ"
      },
      "source": [
        "Putem obține un obiect \"summary\" folosind metoda \"evaluate\":"
      ]
    },
    {
      "cell_type": "code",
      "execution_count": null,
      "metadata": {
        "jupyter": {
          "outputs_hidden": false
        },
        "id": "Ay27C5I6TZMJ"
      },
      "outputs": [],
      "source": [
        "test_results = correct_model.evaluate(test_data)"
      ]
    },
    {
      "cell_type": "code",
      "execution_count": null,
      "metadata": {
        "jupyter": {
          "outputs_hidden": false
        },
        "colab": {
          "base_uri": "https://localhost:8080/"
        },
        "id": "s00_YCznTZMJ",
        "outputId": "384dd412-3672-41cd-de44-dc638b2845ff"
      },
      "outputs": [
        {
          "output_type": "stream",
          "name": "stdout",
          "text": [
            "+-------------------+\n",
            "|          residuals|\n",
            "+-------------------+\n",
            "| -23.18546760225756|\n",
            "|-21.853757539736687|\n",
            "| -21.21668501621559|\n",
            "|-19.472464838700418|\n",
            "|-18.732379799451987|\n",
            "|-15.350857319379909|\n",
            "|-16.751310354257743|\n",
            "| -18.38274322937227|\n",
            "|-15.993026063623017|\n",
            "|-16.083694019024396|\n",
            "|-12.397354327199158|\n",
            "| -17.17068279313801|\n",
            "|-15.080593028842268|\n",
            "|-17.435994658927537|\n",
            "|-14.884416229792873|\n",
            "|-13.637601226722339|\n",
            "| -7.038494977525212|\n",
            "| -8.876401617807634|\n",
            "| -7.121041726033303|\n",
            "| -8.149659201052156|\n",
            "+-------------------+\n",
            "only showing top 20 rows\n",
            "\n",
            "RMSE: 9.950991558199124\n"
          ]
        }
      ],
      "source": [
        "test_results.residuals.show()\n",
        "print(\"RMSE: {}\".format(test_results.rootMeanSquaredError))"
      ]
    },
    {
      "cell_type": "markdown",
      "metadata": {
        "id": "cmvKBZnrTZMJ"
      },
      "source": [
        "Dorim să testăm modelul pe datele neetichetate - în primul rând, acesta este scopul construirii modelului.\n",
        "Putem realiza această testare cu ajutorul unei alte metode - `transform()`. Această metodă a fost, de fapt, apelată și în cadrul lui `evaluate()`."
      ]
    },
    {
      "cell_type": "code",
      "execution_count": null,
      "metadata": {
        "jupyter": {
          "outputs_hidden": false
        },
        "id": "dakEgLB0TZMJ"
      },
      "outputs": [],
      "source": [
        "predictions = correct_model.transform(unlabeled_data)"
      ]
    },
    {
      "cell_type": "code",
      "execution_count": null,
      "metadata": {
        "jupyter": {
          "outputs_hidden": false
        },
        "colab": {
          "base_uri": "https://localhost:8080/"
        },
        "id": "svawNtvuTZMJ",
        "outputId": "57bcf3f8-0e19-4f8d-ff46-013d4b74bd47"
      },
      "outputs": [
        {
          "output_type": "stream",
          "name": "stdout",
          "text": [
            "+--------------------+-------------------+\n",
            "|            features|         prediction|\n",
            "+--------------------+-------------------+\n",
            "|(10,[0,1,2,3,4,5,...|-3.5507395803441644|\n",
            "|(10,[0,1,2,3,4,5,...|-1.6571265505862853|\n",
            "|(10,[0,1,2,3,4,5,...|  1.004607757256916|\n",
            "|(10,[0,1,2,3,4,5,...|-0.3102979509141207|\n",
            "|(10,[0,1,2,3,4,5,...|-0.6699562307625665|\n",
            "|(10,[0,1,2,3,4,5,...|  -1.97586341329604|\n",
            "|(10,[0,1,2,3,4,5,...| -0.275181909951804|\n",
            "|(10,[0,1,2,3,4,5,...| 2.1213129539195386|\n",
            "|(10,[0,1,2,3,4,5,...|0.13101673605245767|\n",
            "|(10,[0,1,2,3,4,5,...| 1.0272110444819638|\n",
            "|(10,[0,1,2,3,4,5,...|-1.4697335679596097|\n",
            "|(10,[0,1,2,3,4,5,...|  3.398241231435137|\n",
            "|(10,[0,1,2,3,4,5,...|  2.040664964737653|\n",
            "|(10,[0,1,2,3,4,5,...|  4.513771555557116|\n",
            "|(10,[0,1,2,3,4,5,...| 2.3836424444378177|\n",
            "|(10,[0,1,2,3,4,5,...| 1.7594337267554976|\n",
            "|(10,[0,1,2,3,4,5,...| -4.602054700363614|\n",
            "|(10,[0,1,2,3,4,5,...| -1.419264318222285|\n",
            "|(10,[0,1,2,3,4,5,...|-2.9203113865471533|\n",
            "|(10,[0,1,2,3,4,5,...|-1.6047922562394428|\n",
            "+--------------------+-------------------+\n",
            "only showing top 20 rows\n",
            "\n",
            "+-------------------+--------------------+\n",
            "|              label|            features|\n",
            "+-------------------+--------------------+\n",
            "|-26.736207182601724|(10,[0,1,2,3,4,5,...|\n",
            "| -23.51088409032297|(10,[0,1,2,3,4,5,...|\n",
            "|-20.212077258958672|(10,[0,1,2,3,4,5,...|\n",
            "|-19.782762789614537|(10,[0,1,2,3,4,5,...|\n",
            "|-19.402336030214553|(10,[0,1,2,3,4,5,...|\n",
            "| -17.32672073267595|(10,[0,1,2,3,4,5,...|\n",
            "|-17.026492264209548|(10,[0,1,2,3,4,5,...|\n",
            "| -16.26143027545273|(10,[0,1,2,3,4,5,...|\n",
            "| -15.86200932757056|(10,[0,1,2,3,4,5,...|\n",
            "|-15.056482974542433|(10,[0,1,2,3,4,5,...|\n",
            "|-13.867087895158768|(10,[0,1,2,3,4,5,...|\n",
            "|-13.772441561702871|(10,[0,1,2,3,4,5,...|\n",
            "|-13.039928064104615|(10,[0,1,2,3,4,5,...|\n",
            "| -12.92222310337042|(10,[0,1,2,3,4,5,...|\n",
            "|-12.500773785355054|(10,[0,1,2,3,4,5,...|\n",
            "| -11.87816749996684|(10,[0,1,2,3,4,5,...|\n",
            "|-11.640549677888826|(10,[0,1,2,3,4,5,...|\n",
            "| -10.29566593602992|(10,[0,1,2,3,4,5,...|\n",
            "|-10.041353112580456|(10,[0,1,2,3,4,5,...|\n",
            "| -9.754451457291598|(10,[0,1,2,3,4,5,...|\n",
            "+-------------------+--------------------+\n",
            "only showing top 20 rows\n",
            "\n"
          ]
        },
        {
          "output_type": "execute_result",
          "data": {
            "text/plain": [
              "(None, None)"
            ]
          },
          "metadata": {},
          "execution_count": 29
        }
      ],
      "source": [
        "predictions.show(),test_data.show()"
      ]
    },
    {
      "cell_type": "markdown",
      "metadata": {
        "id": "LNZYBz4MTZMJ"
      },
      "source": [
        "Ce concluzii se pot trage asupra predicției obținute?"
      ]
    }
  ],
  "metadata": {
    "anaconda-cloud": {},
    "kernelspec": {
      "display_name": "Python 3",
      "language": "python",
      "name": "python3"
    },
    "language_info": {
      "codemirror_mode": {
        "name": "ipython",
        "version": 3
      },
      "file_extension": ".py",
      "mimetype": "text/x-python",
      "name": "python",
      "nbconvert_exporter": "python",
      "pygments_lexer": "ipython3",
      "version": "3.8.5"
    },
    "colab": {
      "provenance": [],
      "include_colab_link": true
    }
  },
  "nbformat": 4,
  "nbformat_minor": 0
}