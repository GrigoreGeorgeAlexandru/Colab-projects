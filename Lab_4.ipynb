{
  "nbformat": 4,
  "nbformat_minor": 0,
  "metadata": {
    "colab": {
      "provenance": [],
      "include_colab_link": true
    },
    "kernelspec": {
      "name": "python3",
      "display_name": "Python 3"
    },
    "language_info": {
      "name": "python"
    }
  },
  "cells": [
    {
      "cell_type": "markdown",
      "metadata": {
        "id": "view-in-github",
        "colab_type": "text"
      },
      "source": [
        "<a href=\"https://colab.research.google.com/github/GrigoreGeorgeAlexandru/Colab-projects/blob/main/Lab_4.ipynb\" target=\"_parent\"><img src=\"https://colab.research.google.com/assets/colab-badge.svg\" alt=\"Open In Colab\"/></a>"
      ]
    },
    {
      "cell_type": "markdown",
      "source": [
        "# Problema blocuri"
      ],
      "metadata": {
        "id": "JMFHkh6gGJcQ"
      }
    },
    {
      "cell_type": "markdown",
      "source": [
        "Avem un număr N de blocuri(cuburi) dispuse pe S stive. Stivele pot fi goale sau pot avea o parte din cuburi puse unul peste altul.\n",
        "\n",
        "Se dă o stare initială, cu blocurile așezate, într-o anumită configurație, de exemplu:"
      ],
      "metadata": {
        "id": "mbf0M5S-oWfU"
      }
    },
    {
      "cell_type": "markdown",
      "source": [
        "![image.png](data:image/png;base64,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)"
      ],
      "metadata": {
        "id": "TqefyVvrJwyW"
      }
    },
    {
      "cell_type": "markdown",
      "source": [
        "și una sau mai multe stări finale, cu blocurile rearanjate, de exemplu:"
      ],
      "metadata": {
        "id": "GaXQpDp3ocQq"
      }
    },
    {
      "cell_type": "markdown",
      "source": [
        "![image.png](data:image/png;base64,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)"
      ],
      "metadata": {
        "id": "XAwQn2OCUWe0"
      }
    },
    {
      "cell_type": "markdown",
      "source": [
        "Se cere secvența de mutări necesare pentru a ajunge din starea inițială în starea finală. În cadrul unei mutări putem lua orice cub aflat în vârful unei stive și îl putem pune în vârful oricărei alte stive."
      ],
      "metadata": {
        "id": "ueK4_tgRolNk"
      }
    },
    {
      "cell_type": "markdown",
      "source": [
        "# Soluții"
      ],
      "metadata": {
        "id": "9siOKiCkJ2oz"
      }
    },
    {
      "cell_type": "markdown",
      "source": [
        "## 1. Pregătirea claselor\n",
        "---"
      ],
      "metadata": {
        "id": "tHt44-gaebP5"
      }
    },
    {
      "cell_type": "markdown",
      "source": [
        "Preluați clasele Graph, Node și State implementate pentru algoritmul A* și actualizați-le pentru problema blocurilor.\n",
        "\n",
        "Aveți grijă la funcțiile de afișare, calculul succesorilor și calculul estimării* pe nod!\n",
        "\n",
        "Creați două obiecte de tip Node cu informații diferite și afișati succesorii pentru ele, verificând corectitudinea informațiilor.\n",
        "\n",
        "_* Momentan estimarea poate fi banală_."
      ],
      "metadata": {
        "id": "t_CdtOh8J4vZ"
      }
    },
    {
      "cell_type": "code",
      "source": [
        "import copy\n",
        "\n",
        "\n",
        "class State:\n",
        "  S = 0\n",
        "  C = []\n",
        "\n",
        "  def __init__(self, stive):\n",
        "    ''' Constructorul clasei State\n",
        "\n",
        "    :param stive: lista stivelor, unde elementul de pe prima pozitie\n",
        "    reprezinta cubul de la baza stivei, iar ultima pozitie cubul din varf\n",
        "\n",
        "    Exemplu configuratie:\n",
        "    [\n",
        "      [cub1],\n",
        "      [cub2, cub4],\n",
        "      []\n",
        "      [cub3]\n",
        "    ]\n",
        "    '''\n",
        "    self.stive = stive\n",
        "\n",
        "  def __hash__(self):\n",
        "    return id(self)\n",
        "\n",
        "  def __eq__(self, cls):\n",
        "     return self.stive == cls.stive\n",
        "\n",
        "  def __str__(self):\n",
        "    afis = 'Stare curenta:\\n'\n",
        "\n",
        "    # Afisare pe verticala:\n",
        "    x = max([len(stiva) for stiva in self.stive])\n",
        "    while x >= 0:\n",
        "      afis += ' '.join([str(stiva[x]) if len(stiva) > x else '.'\n",
        "                        for stiva in self.stive]) + '\\n'\n",
        "      x -= 1\n",
        "\n",
        "    # Afisare pe orizontala:\n",
        "    # for stiva in self.stive:\n",
        "    #   afis += ' '.join([str(cub) for cub in stiva]) + '\\n'\n",
        "\n",
        "    return afis\n",
        "\n",
        "  def __repr__(self):\n",
        "    return str(self) + '\\n'\n",
        "\n",
        "  def succesori(self):\n",
        "    ''' Calculeaza lista succesorilor directi ai starii curente.\n",
        "\n",
        "    :return: lista starilor admisibile\n",
        "    '''\n",
        "    succesori = []\n",
        "\n",
        "    for i, stiva in enumerate(self.stive):\n",
        "      # Verific ca stiva din care vreau sa iau un cub nu este vida\n",
        "      if len(stiva) == 0:\n",
        "        continue\n",
        "\n",
        "      for j in range(len(self.stive)):\n",
        "        # Verific sa nu ma aflu pe stiva de pe care am luat cubul\n",
        "        if i == j:\n",
        "          continue\n",
        "\n",
        "        # Creez o noua lista de stive cu aceeasi informatie ca lista curenta\n",
        "        stiveCurente = copy.deepcopy(self.stive)\n",
        "\n",
        "        # Scot ultimul element din stiva i si il adaug la finalul stivei j\n",
        "        stiveCurente[j].append(stiveCurente[i].pop(-1))\n",
        "\n",
        "        # Adaug noua stare in lista de succesori\n",
        "        succesori.append(State(stiveCurente))\n",
        "\n",
        "    return succesori"
      ],
      "metadata": {
        "id": "JPbUEjI9IXdi"
      },
      "execution_count": null,
      "outputs": []
    },
    {
      "cell_type": "code",
      "source": [
        "class Node:\n",
        "  def __init__(self, informatie, parinte = None, g = 0, h = 0):\n",
        "    ''' Constructorul clasei Node.\n",
        "\n",
        "    :param informatie: informatia nodului curent\n",
        "    :param parinte: pointer catre parintele nodului curent\n",
        "    :param succesori: lista succesorilor nodului curent\n",
        "    :param g: lungimea drumului de la nodul start pana la nodul curent\n",
        "    :param h: estimarea distantei de la nodul curent pana la cel mai apropiat\n",
        "    nod scop\n",
        "    '''\n",
        "    self.informatie = informatie\n",
        "    self.parinte = parinte\n",
        "    self.g = g\n",
        "    self.h = h\n",
        "    self.f = g + h\n",
        "    self.succesori = []\n",
        "\n",
        "  def __str__(self):\n",
        "    return str(self.informatie)\n",
        "\n",
        "  def __repr__(self):\n",
        "    return str(self) + \\\n",
        "    ' (' + ' -> '.join([str(x) for x in self.drumRadacina()]) + ')'\n",
        "\n",
        "  def __eq__(self, cls):\n",
        "    return self.f == cls.f and self.g == cls.g\n",
        "\n",
        "  def __lt__(self, cls):\n",
        "    return self.f < cls.f or (self.f == cls.f and self.g > cls.g)\n",
        "\n",
        "  def __le__(self, cls):\n",
        "    return self < cls or self == cls\n",
        "\n",
        "  def vizitat(self):\n",
        "    ''' Returneaza True daca nodul curent a fost deja vizitat, False altfel '''\n",
        "    return len([1 for nod in self.drumRadacina()\n",
        "    if nod.informatie == self.informatie]) > 1 or \\\n",
        "    self.informatie in [nod.informatie for nod in self.parinte.succesori]\n",
        "\n",
        "  def drumRadacina(self):\n",
        "    ''' Calculeaza lista nodurilor de la radacina pana la nodul curent. '''\n",
        "    if self.parinte is None:\n",
        "      return [self]\n",
        "    return self.parinte.drumRadacina() + [self]\n",
        "\n",
        "  def printDrumRadacina(self):\n",
        "    ''' Returneaza un string cu formatarea drumului de la radacina pana la nodul\n",
        "    curent.\n",
        "    '''\n",
        "    drum = self.drumRadacina()\n",
        "    afisare = str(drum[0])\n",
        "\n",
        "    for i in range(1, len(drum)):\n",
        "      state = drum[i - 1].informatie.stive\n",
        "      stateCurent = drum[i].informatie\n",
        "\n",
        "      for j in range(State.S):\n",
        "        for h in range(len(state[j])):\n",
        "          if h >= len(stateCurent.stive[j]) or state[j][h] != stateCurent.stive[j][h]:\n",
        "            cubMutat = state[j][h]\n",
        "            break\n",
        "\n",
        "      afisare += f\"Mutam cubul {cubMutat}:\\n\" + str(stateCurent)\n",
        "\n",
        "    return afisare"
      ],
      "metadata": {
        "id": "t9QEJTvGJPJq"
      },
      "execution_count": null,
      "outputs": []
    },
    {
      "cell_type": "code",
      "source": [
        "nod1 = Node(State([['a'], ['c', 'b'], ['d']]))\n",
        "nod2 = Node(State([['b', 'c'], [], ['d', 'a']]))\n",
        "\n",
        "print(\"Nod 1:\")\n",
        "print(nod1)\n",
        "print(nod1.informatie.succesori())\n",
        "\n",
        "print(\"Nod 2:\")\n",
        "print(nod2)\n",
        "print(nod2.informatie.succesori())"
      ],
      "metadata": {
        "colab": {
          "base_uri": "https://localhost:8080/"
        },
        "id": "ZTCgQdSoVbqB",
        "outputId": "e5545aa7-888b-4f12-98ed-6221727fa2ab"
      },
      "execution_count": null,
      "outputs": [
        {
          "output_type": "stream",
          "name": "stdout",
          "text": [
            "Nod 1:\n",
            "Stare curenta:\n",
            ". . .\n",
            ". b .\n",
            "a c d\n",
            "\n",
            "[Stare curenta:\n",
            ". . .\n",
            ". a .\n",
            ". b .\n",
            ". c d\n",
            "\n",
            ", Stare curenta:\n",
            ". . .\n",
            ". b a\n",
            ". c d\n",
            "\n",
            ", Stare curenta:\n",
            ". . .\n",
            "b . .\n",
            "a c d\n",
            "\n",
            ", Stare curenta:\n",
            ". . .\n",
            ". . b\n",
            "a c d\n",
            "\n",
            ", Stare curenta:\n",
            ". . .\n",
            "d b .\n",
            "a c .\n",
            "\n",
            ", Stare curenta:\n",
            ". . .\n",
            ". d .\n",
            ". b .\n",
            "a c .\n",
            "\n",
            "]\n",
            "Nod 2:\n",
            "Stare curenta:\n",
            ". . .\n",
            "c . a\n",
            "b . d\n",
            "\n",
            "[Stare curenta:\n",
            ". . .\n",
            ". . a\n",
            "b c d\n",
            "\n",
            ", Stare curenta:\n",
            ". . .\n",
            ". . c\n",
            ". . a\n",
            "b . d\n",
            "\n",
            ", Stare curenta:\n",
            ". . .\n",
            "a . .\n",
            "c . .\n",
            "b . d\n",
            "\n",
            ", Stare curenta:\n",
            ". . .\n",
            "c . .\n",
            "b a d\n",
            "\n",
            "]\n"
          ]
        }
      ]
    },
    {
      "cell_type": "markdown",
      "source": [
        "## 2. Validări și afișări\n",
        "---"
      ],
      "metadata": {
        "id": "fEVYRrVTq9Rb"
      }
    },
    {
      "cell_type": "markdown",
      "source": [
        "a) Se vor citi dintr-un fișier starea inițială și stările finale. Actualizați clasele folosind această informație.\n",
        "\n",
        "Exemplu fișier input cu o stare inițială (până la ```---```) și 2 stări finale:\n",
        "```\n",
        "a\n",
        "c b\n",
        "d\n",
        "---\n",
        "b c\n",
        ".\n",
        "d a\n",
        "---\n",
        ".\n",
        ".\n",
        "d b c a\n",
        "```"
      ],
      "metadata": {
        "id": "PD1KXKoKUhC5"
      }
    },
    {
      "cell_type": "markdown",
      "source": [
        "b) Adăugați în clasa Graph o metodă *valideaza* care verifică dacă fișierul dat e valid (toate stările finale au același număr de stive și aceleași blocuri ca și starea inițială)."
      ],
      "metadata": {
        "id": "VZzIQ9IDs5va"
      }
    },
    {
      "cell_type": "code",
      "source": [
        "class Graph:\n",
        "  EURISTICA=\"banala\"\n",
        "\n",
        "  def __init__(self, file=\"input.txt\"):\n",
        "    ''' Constructorul clasei Graph.\n",
        "\n",
        "    :param file: calea fisierului care contine informatiile nodurilor\n",
        "    '''\n",
        "    nodStart, noduriScop = self.citeste_stari(file)\n",
        "\n",
        "    self.nodStart = Node(State(nodStart))\n",
        "    self.noduriScop = noduriScop\n",
        "\n",
        "    State.S = len(nodStart)\n",
        "    State.C = [cub for stiva in nodStart for cub in stiva]\n",
        "    State.C.sort()\n",
        "\n",
        "    if not self.valideaza():\n",
        "      print(\"Informatiile din fisierul dat nu sunt valide\")\n",
        "\n",
        "  def citeste_stari(self, file):\n",
        "    ''' Citeste din fisier starea initiala si starile finale.\n",
        "\n",
        "    :param file: calea fisierului care contine informatiile nodurilor\n",
        "    :return: returneaza informatia din nodul start, informatia nodului scop\n",
        "    '''\n",
        "    f = open(file, \"r\")\n",
        "\n",
        "    nodStart = []\n",
        "    noduriScop = []\n",
        "    noduriCitite = 0\n",
        "\n",
        "    linie = f.readline()\n",
        "    while linie:\n",
        "      if linie == '---\\n':\n",
        "        noduriCitite += 1\n",
        "        if noduriCitite > 1:\n",
        "          noduriScop.append(nodScop)\n",
        "        nodScop = []\n",
        "\n",
        "      elif noduriCitite == 0:\n",
        "        nodStart.append(linie.split())\n",
        "\n",
        "      else:\n",
        "        nodScop.append(linie.split())\n",
        "\n",
        "      linie = f.readline()\n",
        "\n",
        "    noduriScop.append(nodScop)\n",
        "    f.close()\n",
        "\n",
        "    return nodStart, noduriScop\n",
        "\n",
        "  def valideaza(self):\n",
        "    ''' Valideaza corectitudinea datelor de intrare (minim un nod scop, toate\n",
        "    starile finale au acelasi numar de stive si aceleasi blocuri ca starea\n",
        "    initiala).\n",
        "\n",
        "    :return: True daca este valid, False altfel\n",
        "    '''\n",
        "    if len(self.noduriScop) == 0:\n",
        "      return False\n",
        "\n",
        "    for nodScop in self.noduriScop:\n",
        "      if len(nodScop) != State.S:\n",
        "        return False\n",
        "\n",
        "      cuburi = [cub for stiva in nodScop for cub in stiva]\n",
        "      cuburi.sort()\n",
        "      if cuburi != State.C:\n",
        "        return False\n",
        "\n",
        "    return True\n",
        "\n",
        "  def calcul_mutari(self, nod, nodScop):\n",
        "    ''' Calculeaza cate blocuri nu sunt la locul lor fata de o stare scop.\n",
        "\n",
        "    :return: numarul minim necesar de mutari pentru a ajunge intr-o stare scop\n",
        "    '''\n",
        "    diff = 0\n",
        "    for i in State.S:\n",
        "      n = len(nod.stive[i])\n",
        "      m = len(nodScop.stive[i])\n",
        "      diff += abs(n - m)\n",
        "\n",
        "      for j in range(min(n, m)):\n",
        "        diff += nod.stive[i][j] != nodScop.stive[i][j]\n",
        "\n",
        "    return diff / 2\n",
        "\n",
        "  def calcul_cost(self, nod, nodScop):\n",
        "    ''' Calculeaza costul de mutare al blocurilor care nu sunt la locul lor\n",
        "    fata de o stare scop.\n",
        "\n",
        "    Calculez costul total din care scad costul blocurilor care se afla deja pe\n",
        "    pozitia corecta.\n",
        "\n",
        "    :return: costul minim necesar pentru a ajunge intr-o stare scop\n",
        "    '''\n",
        "    diff = sum([ord(nod) - ord('a') + 1 for nod in State.C])\n",
        "\n",
        "    for i in State.S:\n",
        "      n = len(nod.stive[i])\n",
        "      m = len(nodScop.stive[i])\n",
        "\n",
        "      for j in range(min(n, m)):\n",
        "        if nod.stive[i][j] == nodScop.stive[i][j]:\n",
        "          diff -= (ord(nod.stive[i][j]) - ord('a') + 1)\n",
        "\n",
        "    return diff\n",
        "\n",
        "  def estimeaza_h(self, nod):\n",
        "    ''' Returneaza estimarea corespunzatoare nodului curent pe baza problemei.\n",
        "\n",
        "    :param nod: informatia nodului pentru care vrem estimarea\n",
        "    :return: estimarea pe nod\n",
        "    '''\n",
        "    if self.EURISTICA == \"banala\":\n",
        "      return 0 if nod.stive in self.noduriScop else 1\n",
        "\n",
        "    elif self.EURISTICA == \"mutari\":\n",
        "      nrBlocuri = len(State.C)\n",
        "\n",
        "      for nodScop in self.noduriScop:\n",
        "        nrBlocuri = min(nrBlocuri, self.calcul_mutari(nod, nodScop))\n",
        "\n",
        "      return nrBlocuri\n",
        "\n",
        "    elif self.EURISTICA == \"cost\":\n",
        "      nrBlocuri = len(State.C)\n",
        "\n",
        "      for nodScop in self.noduriScop:\n",
        "        nrBlocuri = min(nrBlocuri, self.calcul_cost(nod, nodScop))\n",
        "\n",
        "      return nrBlocuri\n",
        "\n",
        "    else:\n",
        "      return len(State.C)\n",
        "\n",
        "  def scop(self, nod):\n",
        "    ''' Primeste un nod oarecare si verifica daca e scop.\n",
        "\n",
        "    :param nod: un nod oarecare\n",
        "    :return: True daca nodul e scop, False altfel\n",
        "    '''\n",
        "    return nod.informatie.stive in self.noduriScop\n",
        "\n",
        "  def succesori(self, nod):\n",
        "    ''' Primeste un nod al arborelui de parcurgere si returnează lista\n",
        "    succesorilor directi ai nodului care nu au fost vizitati pe ramura curenta.\n",
        "\n",
        "    :param nod: un nod oarecare\n",
        "    :return: lista succesorilor nodului\n",
        "    '''\n",
        "    succesori = nod.informatie.succesori()\n",
        "    for nod2 in succesori:\n",
        "      cost = 1\n",
        "\n",
        "      nodCurent = Node(nod2, nod, nod.g + cost, self.estimeaza_h(nod2))\n",
        "      if nodCurent.vizitat():\n",
        "        continue\n",
        "\n",
        "      nod.succesori.append(nodCurent)\n",
        "\n",
        "    return nod.succesori"
      ],
      "metadata": {
        "id": "x6CCRiT2Rar3"
      },
      "execution_count": null,
      "outputs": []
    },
    {
      "cell_type": "code",
      "source": [
        "graf = Graph()"
      ],
      "metadata": {
        "id": "zRmX58YNwA3g"
      },
      "execution_count": null,
      "outputs": []
    },
    {
      "cell_type": "markdown",
      "source": [
        "c) Rulați cu BF/DF problema și verificați soluțiile din output."
      ],
      "metadata": {
        "id": "SrmyATiCtamh"
      }
    },
    {
      "cell_type": "code",
      "source": [
        "def bfs(graf):\n",
        "  ''' Implementarea tehnicii de cautare in latime (BFS) cu 1 solutie.\n",
        "\n",
        "  :param graf: graful pe care rulam algoritmul\n",
        "  :return: primele n solutii identificate\n",
        "  '''\n",
        "  coada = [graf.nodStart]\n",
        "  while len(coada) > 0:\n",
        "    nodCurent = coada.pop(0)\n",
        "\n",
        "    if graf.scop(nodCurent):\n",
        "      return nodCurent\n",
        "\n",
        "    succesori = graf.succesori(nodCurent)\n",
        "    coada += copy.deepcopy(succesori)\n",
        "\n",
        "  return None"
      ],
      "metadata": {
        "id": "Pw_uDR3z6DOa"
      },
      "execution_count": null,
      "outputs": []
    },
    {
      "cell_type": "code",
      "source": [
        "import time\n",
        "\n",
        "start_time = time.time()\n",
        "graf = Graph()\n",
        "nodFinal = bfs(graf)\n",
        "end_time = time.time()\n",
        "\n",
        "drum = nodFinal.printDrumRadacina()\n",
        "f = open(\"outputBFS.txt\", \"w\")\n",
        "\n",
        "if drum:\n",
        "  f.write(drum)\n",
        "else:\n",
        "  f.write(\"Nu exista solutie.\")\n",
        "\n",
        "f.write(f\"\\nTimpul de rulare: {end_time - start_time} secunde.\")\n",
        "f.close()"
      ],
      "metadata": {
        "id": "D6MmMy1r36LO"
      },
      "execution_count": null,
      "outputs": []
    },
    {
      "cell_type": "markdown",
      "source": [
        "## 3. Euristici\n",
        "---"
      ],
      "metadata": {
        "id": "BN2ya2lMt-wR"
      }
    },
    {
      "cell_type": "markdown",
      "source": [
        "Modificați funcția estimeaza_h astfel încât să implementeze una dintre următoare euristici în funcție de o valoare dată ca parametru:\n",
        "- _banala_ - va returna costul minim pe o mutare daca starea nu e scop și 0 dacă e scop\n",
        "- _euristica mutari_ - va returna un număr de mutări (mai mic sau egal decăt numărul real de mutări astfel încât să ajungem de la starea curentă la cea mai apropiată stare scop) și 0 dacă starea curentă e scop. Un astfel de număr de mutări e dat de nb = \"câte blocuri nu sunt la locul lor față de fiecare stare scop\" și apoi luând minimul dintre aceste valori nb.\n",
        "- _euristica costuri_ - va returna un cost mai mic sau egal decât costul real al oricărui drum de la nodul curent la orice nod scop, folosindu-se în formulă și de costul de mutare al unui bloc (considerăm costul de mutare echivalent identificatorului să numeric, ex: 1 -> 1, a -> a etc.). Veți verifica care sunt blocurile care nu sunt la locul lor și veți calcula suma costurilor lor de mutare. Pentru fiecare scop se va calcula o astfel de sumă din care returnăm minimul.\n",
        "- _euristica neadmisibila_ - va returna valori astfel încât estimarea pentru nod să fie neadmisibilă."
      ],
      "metadata": {
        "id": "6ymekOcfUlJY"
      }
    },
    {
      "cell_type": "markdown",
      "source": [
        "## 4. Blocuri cu A*\n",
        "---"
      ],
      "metadata": {
        "id": "q5eyY17ZvQ5Z"
      }
    },
    {
      "cell_type": "markdown",
      "source": [
        "Rezolvați problema blocurilor cu A\\*. Afișați într-un fișier cu calea citită de la tastatură drumul de la nodul start la nodul scop, lungimea drumului si costul total. La fel ca mai sus, considerăm că mutarea unui bloc are cost echivalentul identificatorului său numeric."
      ],
      "metadata": {
        "id": "PVbHz4vgm8fw"
      }
    },
    {
      "cell_type": "code",
      "source": [
        "import heapq\n",
        "\n",
        "def aStar(graf):\n",
        "  open = [graf.nodStart]\n",
        "  closed = {}\n",
        "\n",
        "  while open:\n",
        "    nodCurent = open.pop(0)\n",
        "    closed[nodCurent.informatie] = nodCurent\n",
        "\n",
        "    if graf.scop(nodCurent):\n",
        "      return nodCurent\n",
        "\n",
        "    succesori = graf.succesori(nodCurent)\n",
        "\n",
        "    for succesor in succesori:\n",
        "      nodNou = None\n",
        "\n",
        "      nodVechi = [nod for nod in open if succesor.informatie == nod.informatie]\n",
        "\n",
        "      nodVechi2 = None\n",
        "      if succesor.informatie in closed.keys():\n",
        "        nodVechi2 = closed[succesor.informatie]\n",
        "\n",
        "      if nodVechi:\n",
        "        if succesor < nodVechi[0]:\n",
        "          open.remove(nodVechi[0])\n",
        "          nodNou = succesor\n",
        "\n",
        "      elif nodVechi2:\n",
        "        if succesor < nodVechi2:\n",
        "          closed.pop(succesor.informatie)\n",
        "          nodNou = succesor\n",
        "\n",
        "      else:\n",
        "        nodNou = succesor\n",
        "\n",
        "      if nodNou:\n",
        "        heapq.heappush(open, nodNou)"
      ],
      "metadata": {
        "id": "utBR60O2m754"
      },
      "execution_count": null,
      "outputs": []
    },
    {
      "cell_type": "code",
      "source": [
        "import time\n",
        "\n",
        "start_time = time.time()\n",
        "graf = Graph()\n",
        "nodFinal = aStar(graf)\n",
        "end_time = time.time()\n",
        "\n",
        "drum = nodFinal.printDrumRadacina()\n",
        "f = open(input(\"Numele fisierului de iesire: \"), \"w\")\n",
        "\n",
        "if drum:\n",
        "  f.write(drum)\n",
        "  f.write(f\"Lungimea drumului: {nodFinal.f}\")\n",
        "else:\n",
        "  f.write(\"Nu exista solutie.\")\n",
        "\n",
        "f.write(f\"\\nTimpul de rulare: {end_time - start_time} secunde.\")\n",
        "f.close()"
      ],
      "metadata": {
        "colab": {
          "base_uri": "https://localhost:8080/"
        },
        "id": "Rt8dbIuU124T",
        "outputId": "cf82d571-530c-4241-d393-583271641b35"
      },
      "execution_count": null,
      "outputs": [
        {
          "name": "stdout",
          "output_type": "stream",
          "text": [
            "Numele fisierului de iesire: outputAStar.txt\n"
          ]
        }
      ]
    },
    {
      "cell_type": "markdown",
      "source": [
        "## 5. Problemă alternativă\n",
        "---"
      ],
      "metadata": {
        "id": "Lu4PPwIUvcxS"
      }
    },
    {
      "cell_type": "markdown",
      "source": [
        "Să se modifice problema blocurilor cu următoarele cerințe:\n",
        "- Considerăm că informația unui bloc nu este unică. Nu putem pune un bloc pe o stivă dacă mai există în stivă un bloc cu aceeași informație.\n",
        "- Costul unei mutări este dat de înălțimea la care mutăm blocul (înălțimea unui bloc la baza stivei se consideră 1 și crește cu fiecare nivel).\n",
        "- Considerăm că o stare este scop dacă toate stivele din ea sunt de înălțimi egale (indiferent ce avem pe stive). ATENȚIE! Nu veți enumera toate stările scop ci veți verifica dacă o stare curentă îndeplinește condiția dată (nu mai avem lista de scopuri).\n",
        "- Se va implemeta și o funcție care verifică dacă din starea inițială e posibil să ajungem la o stare finală. Modificați funcția de succesori, de testare a scopului și de calculare a estimarii în mod corespunzător pentru noul criteriu de stare finală.\n"
      ],
      "metadata": {
        "id": "OO2QUzI_Uq4Q"
      }
    },
    {
      "cell_type": "code",
      "source": [],
      "metadata": {
        "id": "Ar0vBv_EeQ_W"
      },
      "execution_count": null,
      "outputs": []
    }
  ]
}