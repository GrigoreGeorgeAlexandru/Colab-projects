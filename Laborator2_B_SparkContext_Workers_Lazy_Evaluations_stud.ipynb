{
  "cells": [
    {
      "cell_type": "markdown",
      "metadata": {
        "id": "view-in-github",
        "colab_type": "text"
      },
      "source": [
        "<a href=\"https://colab.research.google.com/github/GrigoreGeorgeAlexandru/Colab-projects/blob/main/Laborator2_B_SparkContext_Workers_Lazy_Evaluations_stud.ipynb\" target=\"_parent\"><img src=\"https://colab.research.google.com/assets/colab-badge.svg\" alt=\"Open In Colab\"/></a>"
      ]
    },
    {
      "cell_type": "markdown",
      "metadata": {
        "id": "buCVnHL29wfT"
      },
      "source": [
        "# SparkContext - numărul de noduri _worker_ și evaluarea _lazy_"
      ]
    },
    {
      "cell_type": "markdown",
      "metadata": {
        "id": "I-WPM8p79wfW"
      },
      "source": [
        "## Verificarea impactului numărului de _workers_\n",
        "La inițializarea unui `SparkContext` putem specifica numărul de noduri _worker_. În general, este recomandat să avem un nod _worker_/_core_ al mașinii, însă acest număr poate fi diferit. În următoarele celule de cod vom examina impactul numărului de _workers_ pe câteva operații paralelizate."
      ]
    },
    {
      "cell_type": "code",
      "execution_count": null,
      "metadata": {
        "id": "-CKgRkCj9wfW"
      },
      "outputs": [],
      "source": [
        "from time import time\n",
        "from pyspark import SparkContext"
      ]
    },
    {
      "cell_type": "code",
      "execution_count": null,
      "metadata": {
        "id": "1VZQb3--9wfX"
      },
      "outputs": [],
      "source": [
        "for j in range(1,5):\n",
        "    sc= SparkContext(master = \"local[%d]\"%(j))\n",
        "    print(sc.defaultParallelism)\n",
        "    t0=time()\n",
        "    for i in range(10):\n",
        "        sc.parallelize([1,2]*10000).reduce(lambda x,y:x+y)\n",
        "    print(f\"{j} executors, time = {time()-t0}\")\n",
        "    sc.stop()"
      ]
    },
    {
      "cell_type": "code",
      "execution_count": null,
      "metadata": {
        "id": "uIsIiEi79wfY"
      },
      "outputs": [],
      "source": [
        "#sc.defaultParallelism\n",
        "#sc.stop()\n",
        "#t1=time()\n",
        "time()-t1"
      ]
    },
    {
      "cell_type": "markdown",
      "metadata": {
        "id": "H8gkP9sH9wfa"
      },
      "source": [
        "#### Analizăm următorul rezultat: <br>1 executors, time = 1.6259338855743408<br>2 executors, time = 0.8395042419433594<br>3 executors, time = 0.7692611217498779<br>4 executors, time = 0.7232298851013184\n",
        "#### Observăm că durează aproape dublu pentru 1 _worker_, iar apoi valorile sunt apropiate pentru 2, 3, 4 _workers_. Aceasta are loc deoarece codul este rulat pe o  mașină virtuală Linux ce utilizează doar 2 core-uri ale mașinii gazdă. În cazul în care codul de mai sus este rulat pe o mașină cu 4 core-uri, se vor observa îmbunătățiri până la 4 core-uri, urmate de o aplatizare. <br> Utilizarea mai multor workers/core nu este benefică deoarece, în acel caz, nu se face decât o schimbare de context ce nu accelerează calculul paralel."
      ]
    },
    {
      "cell_type": "markdown",
      "metadata": {
        "id": "mqo81rnl9wfb"
      },
      "source": [
        "## Ideea evaluării de tip _lazy_ : amânarea execuției până la momentul la care aceasta este cu adevărat necesară"
      ]
    },
    {
      "cell_type": "markdown",
      "metadata": {
        "id": "1CRacmSz9wfc"
      },
      "source": [
        "### Creați un RDD cu 1 million de elemente"
      ]
    },
    {
      "cell_type": "code",
      "execution_count": null,
      "metadata": {
        "id": "eHmn86D69wfe"
      },
      "outputs": [],
      "source": [
        "sc = SparkContext(master=\"local[2]\")"
      ]
    },
    {
      "cell_type": "code",
      "execution_count": null,
      "metadata": {
        "id": "XAbcSj1J9wfg",
        "outputId": "320c42b6-c311-405a-d209-7665fe50c629"
      },
      "outputs": [
        {
          "name": "stdout",
          "output_type": "stream",
          "text": [
            "Wall time: 4 ms\n"
          ]
        }
      ],
      "source": [
        "%%time\n",
        "rdd1 = sc.parallelize(range(1000000))"
      ]
    },
    {
      "cell_type": "markdown",
      "metadata": {
        "id": "PsJN8TA29wfh"
      },
      "source": [
        "### Creați o funcție denumită `taketime` ce calculează valoarea cosinus a primelor 100 de valori întregi, iar la final returnează cos(x), unde x a fost primit ca parametru."
      ]
    },
    {
      "cell_type": "code",
      "execution_count": null,
      "metadata": {
        "id": "j0WH738V9wfi"
      },
      "outputs": [],
      "source": []
    },
    {
      "cell_type": "markdown",
      "metadata": {
        "id": "zhyStwLv9wfj"
      },
      "source": [
        "### Cât timp durează execuția lui `taketime`?"
      ]
    },
    {
      "cell_type": "code",
      "execution_count": null,
      "metadata": {
        "id": "NNgA3s6O9wfk"
      },
      "outputs": [],
      "source": [
        "%%time\n",
        "taketime(2)"
      ]
    },
    {
      "cell_type": "markdown",
      "metadata": {
        "id": "CL39SnCT9wfl"
      },
      "source": [
        "### Aplicați operația `map` utilizând funcția anterioară"
      ]
    },
    {
      "cell_type": "code",
      "execution_count": null,
      "metadata": {
        "id": "I-gEy4ZE9wfl",
        "outputId": "f8c3a3b7-7dd9-4b47-b424-695111a6dbe7"
      },
      "outputs": [
        {
          "name": "stdout",
          "output_type": "stream",
          "text": [
            "Wall time: 0 ns\n"
          ]
        }
      ],
      "source": [
        "%%time\n",
        "interim = rdd1.map(lambda x: taketime(x))"
      ]
    },
    {
      "cell_type": "markdown",
      "metadata": {
        "id": "wogJ8nwe9wfn"
      },
      "source": [
        "#### Se observă că fiecare execuție a lui _taketime_ durează similar, iar operația _map_ pe un RDD cu 1000000 elemente are o durată asemănătoare. <br><br>Acest lucru are loc datorită evaluării _lazy_, adică nimic nu este calculat în celula precedentă, ci are loc doar o planificare a execuției. Variabila `interim` nu pointează către o structură de date, ci către un plan de execuție exprimat prin intermediul unui graf de dependențe. Acest graf de dependențe definește modul în care un RDD este calculat pornind de la un altul."
      ]
    },
    {
      "cell_type": "markdown",
      "metadata": {
        "id": "fND81YAW9wfn"
      },
      "source": [
        "### Putem vizualiza graful de dependențe utilizând metoda `toDebugString`"
      ]
    },
    {
      "cell_type": "code",
      "execution_count": null,
      "metadata": {
        "id": "6-48bO_49wfn"
      },
      "outputs": [],
      "source": [
        "print(interim.toDebugString().decode())"
      ]
    },
    {
      "cell_type": "markdown",
      "metadata": {
        "id": "6XopptV79wfo"
      },
      "source": [
        "![](https://raw.githubusercontent.com/tirthajyoti/Spark-with-Python/master/Images/RDD_dependency_graph.PNG)"
      ]
    },
    {
      "cell_type": "markdown",
      "metadata": {
        "id": "JiUzn1KP9wfo"
      },
      "source": [
        "### Execuția efectivă prin metoda `reduce`"
      ]
    },
    {
      "cell_type": "code",
      "execution_count": null,
      "metadata": {
        "id": "Bx1VKVSN9wfp",
        "outputId": "8b7b2bd2-822d-4c82-bb8f-915adc0cdf3b"
      },
      "outputs": [
        {
          "name": "stdout",
          "output_type": "stream",
          "text": [
            "output = -0.28870546796847574\n",
            "Wall time: 9.06 s\n"
          ]
        }
      ],
      "source": [
        "%%time\n",
        "print('output =',interim.reduce(lambda x,y:x+y))"
      ]
    },
    {
      "cell_type": "code",
      "execution_count": null,
      "metadata": {
        "id": "AILnEFtu9wfq",
        "outputId": "287efe2b-a0a6-43b6-ed66-9182e74b81a9"
      },
      "outputs": [
        {
          "data": {
            "text/plain": [
              "31.0"
            ]
          },
          "execution_count": 10,
          "metadata": {},
          "output_type": "execute_result"
        }
      ],
      "source": [
        "1000000*31e-6"
      ]
    },
    {
      "cell_type": "markdown",
      "metadata": {
        "id": "aM4q-iGy9wfr"
      },
      "source": [
        "#### Remarcăm timpul relativ scurt, având în vedere că se efectueaza 1000000 operații cu funcția _taketime_. Acesta este rezultatul execuției paralele cu 2 core-uri."
      ]
    },
    {
      "cell_type": "markdown",
      "metadata": {
        "id": "7tbC5u_79wfs"
      },
      "source": [
        "### În exemplul anterior nu am salvat (materializat) niciun rezultat intermediar din `interim`, deci o altă operație simplă (precum numărarea elementelor pozitive) va dura aproape la fel de mult timp."
      ]
    },
    {
      "cell_type": "code",
      "execution_count": null,
      "metadata": {
        "id": "L-SFrJ7F9wfs",
        "outputId": "85963826-1db2-4950-a467-feee7cd1f501"
      },
      "outputs": [
        {
          "name": "stdout",
          "output_type": "stream",
          "text": [
            "500000\n",
            "Wall time: 9.37 s\n"
          ]
        }
      ],
      "source": [
        "%%time\n",
        "print(interim.filter(lambda x:x>0).count())"
      ]
    },
    {
      "cell_type": "markdown",
      "metadata": {
        "id": "Gw5ipvE59wft"
      },
      "source": [
        "## Păstrarea în cache (_caching_) pentru reducerea timpului de calcul pe operații similare (demersul presupune utilizarea memoriei)"
      ]
    },
    {
      "cell_type": "markdown",
      "metadata": {
        "id": "JhdpBdqt9wfu"
      },
      "source": [
        "### Efectuați calculele anterioare utilizând metoda `cache` pentru a determina graful de dependențe să planifice _caching_-ul"
      ]
    },
    {
      "cell_type": "code",
      "execution_count": null,
      "metadata": {
        "id": "O8VOLy4k9wfv",
        "outputId": "6056684f-5cb5-41f3-e0b9-2f1dc15ab296"
      },
      "outputs": [
        {
          "name": "stdout",
          "output_type": "stream",
          "text": [
            "Wall time: 12 ms\n"
          ]
        }
      ],
      "source": [
        "%%time\n",
        "interim = rdd1.map(lambda x: taketime(x)).cache()"
      ]
    },
    {
      "cell_type": "code",
      "execution_count": null,
      "metadata": {
        "id": "1ftBLrwS9wfv",
        "outputId": "b1c1421f-7caa-41e0-98b7-bad0b7316752"
      },
      "outputs": [
        {
          "name": "stdout",
          "output_type": "stream",
          "text": [
            "(2) PythonRDD[5] at RDD at PythonRDD.scala:53 [Memory Serialized 1x Replicated]\n",
            " |  ParallelCollectionRDD[0] at readRDDFromFile at PythonRDD.scala:262 [Memory Serialized 1x Replicated]\n"
          ]
        }
      ],
      "source": [
        "#Afișați graful de dependențe pentru interim\n"
      ]
    },
    {
      "cell_type": "code",
      "execution_count": null,
      "metadata": {
        "id": "yK1qUUO59wfw",
        "outputId": "8ca3d40e-c29f-4785-91ad-c91f5075f8da"
      },
      "outputs": [
        {
          "name": "stdout",
          "output_type": "stream",
          "text": [
            "output = -0.28870546796847574\n",
            "Wall time: 10.2 s\n"
          ]
        }
      ],
      "source": [
        "%%time\n",
        "#Obțineți suma elementelor cu ajutorul metodei reduce și a cache-ului\n"
      ]
    },
    {
      "cell_type": "markdown",
      "metadata": {
        "id": "kunvsS6t9wfx"
      },
      "source": [
        "### Aplicați metoda `filter` pentru numărarea elementelor pozitive. Calculul se va realiza cu ajutorul rezultatului din cache."
      ]
    },
    {
      "cell_type": "code",
      "execution_count": null,
      "metadata": {
        "id": "V6liOvOM9wfx",
        "outputId": "a21df4b5-f173-4b27-91b5-9b003b088daa"
      },
      "outputs": [
        {
          "name": "stdout",
          "output_type": "stream",
          "text": [
            "Wall time: 0 ns\n"
          ]
        }
      ],
      "source": [
        "%%time\n",
        "#Aplicați metoda filter\n"
      ]
    },
    {
      "cell_type": "markdown",
      "metadata": {
        "id": "Vpwmvx_c9wfy"
      },
      "source": [
        "#### Se observă că durata execuției a fost mai scurtă în condițiile utilizării rezultatului din _cache_, ce a putut fi folosit pentru compararea cu 0 și numarare."
      ]
    },
    {
      "cell_type": "code",
      "execution_count": null,
      "metadata": {
        "id": "_oqkELrj9wfy"
      },
      "outputs": [],
      "source": [
        "sc.stop()"
      ]
    },
    {
      "cell_type": "code",
      "execution_count": null,
      "metadata": {
        "id": "5c_TQv2C9wf0"
      },
      "outputs": [],
      "source": []
    }
  ],
  "metadata": {
    "kernelspec": {
      "display_name": "Python 3",
      "language": "python",
      "name": "python3"
    },
    "language_info": {
      "codemirror_mode": {
        "name": "ipython",
        "version": 3
      },
      "file_extension": ".py",
      "mimetype": "text/x-python",
      "name": "python",
      "nbconvert_exporter": "python",
      "pygments_lexer": "ipython3",
      "version": "3.8.5"
    },
    "colab": {
      "provenance": [],
      "include_colab_link": true
    }
  },
  "nbformat": 4,
  "nbformat_minor": 0
}