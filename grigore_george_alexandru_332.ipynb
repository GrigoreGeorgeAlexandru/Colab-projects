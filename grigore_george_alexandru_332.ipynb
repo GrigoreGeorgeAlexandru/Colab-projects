{
  "nbformat": 4,
  "nbformat_minor": 0,
  "metadata": {
    "colab": {
      "provenance": [],
      "authorship_tag": "ABX9TyNsEIwE1KPjKIvrqgL2dOQX",
      "include_colab_link": true
    },
    "kernelspec": {
      "name": "python3",
      "display_name": "Python 3"
    },
    "language_info": {
      "name": "python"
    }
  },
  "cells": [
    {
      "cell_type": "markdown",
      "metadata": {
        "id": "view-in-github",
        "colab_type": "text"
      },
      "source": [
        "<a href=\"https://colab.research.google.com/github/GrigoreGeorgeAlexandru/Colab-projects/blob/main/grigore_george_alexandru_332.ipynb\" target=\"_parent\"><img src=\"https://colab.research.google.com/assets/colab-badge.svg\" alt=\"Open In Colab\"/></a>"
      ]
    },
    {
      "cell_type": "code",
      "execution_count": null,
      "metadata": {
        "colab": {
          "base_uri": "https://localhost:8080/"
        },
        "id": "QhkQQ5FhmCCP",
        "outputId": "780de454-0d85-47b5-b202-36d10df97099"
      },
      "outputs": [
        {
          "output_type": "stream",
          "name": "stdout",
          "text": [
            "4 (0 -> 2)\n",
            "[3 (0 -> 1), 4 (0 -> 2)]\n",
            "[4 (0 -> 2), 3 (0 -> 1)]\n"
          ]
        }
      ],
      "source": [
        "class Nod:\n",
        "\n",
        "    def __init__(self, info, parinte= None,succesori=[]):\n",
        "        self.info = info\n",
        "        self.parinte = parinte\n",
        "        self.succesori=succesori\n",
        "\n",
        "    def __str__(self):\n",
        "        return \"info = {}\".format(self.info)\n",
        "\n",
        "    def __repr__(self):\n",
        "      lista=self.drumRadacina()\n",
        "\n",
        "      string= \"{} (\".format(self.info)\n",
        "      for nod in lista:\n",
        "        if nod==lista[-1]:\n",
        "           string+=\"{})\".format(nod.info)\n",
        "        else:\n",
        "          string+=\"{} -> \".format(nod.info)\n",
        "      return string\n",
        "\n",
        "    def drumRadacina(self):\n",
        "      lista= []\n",
        "      parinte_curent= self.parinte\n",
        "      while  parinte_curent is not None:\n",
        "          lista.append(parinte_curent)\n",
        "          parinte_curent=parinte_curent.parinte\n",
        "      lista.reverse()\n",
        "      return lista\n",
        "\n",
        "    def vizitat(self):\n",
        "      if self in self.parinte.drumRadacina():\n",
        "        return True\n",
        "      return False\n",
        "\n",
        "\n",
        "class Graf:\n",
        "   def __init__(self, nodStart, noduriScop= [],muchii=[]):\n",
        "        self.nodStart = nodStart\n",
        "        self.noduriScop = noduriScop\n",
        "        self.muchii=muchii\n",
        "   def scop(self, nod):\n",
        "      if nod in self.noduriScop:\n",
        "        return True\n",
        "      return False\n",
        "   def succesori(self,nod):\n",
        "    lista=[]\n",
        "    for muchie in self.muchii:\n",
        "      #print(muchie[0],muchie[1])\n",
        "      if muchie[0] == nod and muchie[1].vizitat() == False:\n",
        "        muchie[0].succesori.append(muchie[1])\n",
        "        lista.append(muchie[1])\n",
        "    return lista\n",
        "\n",
        "def BFS(graf,n):\n",
        "  solutii=[]\n",
        "  coada=[]\n",
        "  coada.append(graf.nodStart)\n",
        "  while coada:\n",
        "     if n==0:\n",
        "      return solutii\n",
        "    curent=coada.pop(0)\n",
        "    #print(curent)\n",
        "    if curent in graf.noduriScop:\n",
        "      solutii.append(curent)\n",
        "      n-=1\n",
        "    else:\n",
        "      coada=coada+graf.succesori(curent)\n",
        "\n",
        "\n",
        "def DFS(graf,n):\n",
        "  solutii=[]\n",
        "  coada=[]\n",
        "  coada.append(graf.nodStart)\n",
        "  while coada:\n",
        "    if n==0:\n",
        "      return solutii\n",
        "    curent=coada.pop()\n",
        "    #print(curent)\n",
        "    if curent in graf.noduriScop:\n",
        "      solutii.append(curent)\n",
        "      n-=1\n",
        "    else:\n",
        "      coada=coada+graf.succesori(curent)\n",
        "\n",
        "\n",
        "\n",
        "\n",
        "\n",
        "\n",
        "\n",
        "nod0 = Nod(0)\n",
        "nod1 = Nod(1,nod0)\n",
        "nod2 = Nod(2,nod0)\n",
        "nod3 = Nod(3,nod1)\n",
        "nod4 = Nod(4,nod2)\n",
        "nod0.succesori=[nod1,nod2]\n",
        "nod1.succesori=[nod3]\n",
        "nod2.succesori=[nod4]\n",
        "muchii=[(nod0,nod1),(nod0,nod2),(nod1,nod3),(nod2,nod4)]\n",
        "print(repr(nod4))\n",
        "graf= Graf(nod0,[nod3,nod4],muchii)\n",
        "print(BFS(graf,2))\n",
        "print(DFS(graf,2))"
      ]
    },
    {
      "cell_type": "code",
      "source": [],
      "metadata": {
        "id": "w4k11ouN1Z5u"
      },
      "execution_count": null,
      "outputs": []
    }
  ]
}